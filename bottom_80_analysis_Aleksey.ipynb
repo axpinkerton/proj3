{
 "cells": [
  {
   "cell_type": "code",
   "execution_count": 78,
   "metadata": {},
   "outputs": [],
   "source": [
    "import numpy as np\n",
    "import sys\n",
    "import pandas as pd\n",
    "import matplotlib\n",
    "from matplotlib import pyplot as plt\n",
    "import seaborn as sns\n",
    "\n",
    "%matplotlib inline "
   ]
  },
  {
   "cell_type": "code",
   "execution_count": 79,
   "metadata": {},
   "outputs": [],
   "source": [
    "import sklearn\n",
    "import sklearn.feature_selection\n",
    "import sklearn.utils\n",
    "\n",
    "from sklearn.model_selection import train_test_split\n",
    "from sklearn.model_selection import GridSearchCV\n",
    "\n",
    "from sklearn.model_selection import KFold\n",
    "from sklearn.model_selection import cross_val_score\n",
    "\n",
    "from collections import OrderedDict\n",
    "import xgboost as xgb"
   ]
  },
  {
   "cell_type": "markdown",
   "metadata": {},
   "source": [
    "### Import data, which was cleaning via full_cleaning notebook"
   ]
  },
  {
   "cell_type": "code",
   "execution_count": 169,
   "metadata": {},
   "outputs": [
    {
     "name": "stdout",
     "output_type": "stream",
     "text": [
      "(2552, 81)\n"
     ]
    }
   ],
   "source": [
    "df = pd.read_csv('./data/all_data_CLEAN.csv', index_col=0)\n",
    "\n",
    "print(df.shape)\n",
    "#df.head()\n",
    "\n",
    "data = df.copy()\n",
    "\n",
    "data['MSSubClass'] = data['MSSubClass'].astype(str)\n",
    "# data['OverallQual'] = data['OverallQual'].astype(str)\n",
    "# data['OverallCond'] = data['OverallCond'].astype(str)"
   ]
  },
  {
   "cell_type": "code",
   "execution_count": 170,
   "metadata": {},
   "outputs": [],
   "source": [
    "ord_colnames = ['LotShape', 'LandSlope', 'OverallQual', 'OverallCond',\n",
    "                'ExterQual', 'ExterCond', 'BsmtQual', 'BsmtCond',\n",
    "                'BsmtExposure', 'BsmtFinType1', 'BsmtFinType2', 'HeatingQC',\n",
    "                'KitchenQual', 'Functional', 'FireplaceQu', 'GarageFinish',\n",
    "                'GarageQual', 'GarageCond', 'PoolQC', 'Fence']"
   ]
  },
  {
   "cell_type": "code",
   "execution_count": 171,
   "metadata": {},
   "outputs": [],
   "source": [
    "ord_dict = {}\n",
    "ord_dict['LotShape'] = ['IR3', 'IR2', 'IR1', 'Reg']\n",
    "ord_dict['LandSlope'] = ['Sev', 'Mod', 'Gtl']\n",
    "ord_dict['OverallQual'] = [np.nan, 1,2,3,4,5,6,7,8,9,10]\n",
    "ord_dict['OverallCond'] = [np.nan, 1,2,3,4,5,6,7,8,9,10]\n",
    "ord_dict['ExterQual'] = [np.nan,'Po', 'Fa','TA', 'Gd', 'Ex']\n",
    "ord_dict['ExterCond'] = [np.nan, 'Po', 'Fa','TA', 'Gd', 'Ex']\n",
    "ord_dict['BsmtQual'] = ['NoneListed', 'Po', 'Fa','TA', 'Gd', 'Ex']\n",
    "ord_dict['BsmtCond'] = ['NoneListed', 'Po', 'Fa','TA', 'Gd', 'Ex']\n",
    "ord_dict['BsmtExposure'] = ['NoneListed', 'No', 'Mn', 'Av', 'Gd']\n",
    "ord_dict['BsmtFinType1'] = ['NoneListed', 'Unf', 'LwQ', 'Rec', 'BLQ', 'ALQ', 'GLQ']\n",
    "ord_dict['BsmtFinType2'] = ['NoneListed', 'Unf', 'LwQ', 'Rec', 'BLQ', 'ALQ', 'GLQ']\n",
    "ord_dict['HeatingQC'] = [np.nan, 'Po', 'Fa','TA', 'Gd', 'Ex']\n",
    "ord_dict['KitchenQual'] = [np.nan, 'Po', 'Fa','TA', 'Gd', 'Ex']\n",
    "ord_dict['Functional'] = ['Sal', 'Sev', 'Maj2', 'Maj1', 'Mod', 'Min2', 'Min1', 'Typ']\n",
    "ord_dict['FireplaceQu'] = ['NoneListed', 'Po', 'Fa','TA', 'Gd', 'Ex']\n",
    "ord_dict['GarageFinish'] = ['NoneListed', 'Unf', 'RFn', 'Fin']\n",
    "ord_dict['GarageQual'] = ['NoneListed', 'Po', 'Fa','TA', 'Gd', 'Ex']\n",
    "ord_dict['GarageCond'] = ['NoneListed', 'Po', 'Fa','TA', 'Gd', 'Ex']\n",
    "ord_dict['PoolQC'] = ['NoneListed', 'Po', 'Fa','TA', 'Gd', 'Ex']\n",
    "ord_dict['Fence'] = ['NoneListed', 'MnWw', 'GdWo', 'MnPrv', 'GdPrv']"
   ]
  },
  {
   "cell_type": "code",
   "execution_count": 172,
   "metadata": {},
   "outputs": [],
   "source": [
    "for i in range(len(ord_colnames)):\n",
    "    data[ord_colnames[i]] = data[ord_colnames[i]].apply(lambda x: ord_dict[ord_colnames[i]].index(x))\n"
   ]
  },
  {
   "cell_type": "code",
   "execution_count": 173,
   "metadata": {},
   "outputs": [],
   "source": [
    "nums = ['PID', 'SalePrice','SalePricePerGLA','GrLivArea','LotFrontage', 'LotArea', \n",
    "          'YearBuilt', 'YearRemodAdd','MasVnrArea', 'BsmtFinSF1', 'BsmtFinSF2', \n",
    "          'BsmtUnfSF', 'TotalBsmtSF','1stFlrSF','2ndFlrSF', 'LowQualFinSF', \n",
    "          'BsmtFullBath', 'BsmtHalfBath', 'FullBath','HalfBath', 'BedroomAbvGr', \n",
    "          'KitchenAbvGr','TotRmsAbvGrd', 'Fireplaces','GarageYrBlt', 'GarageCars', \n",
    "          'GarageArea', 'WoodDeckSF', 'OpenPorchSF','EnclosedPorch', '3SsnPorch', \n",
    "          'ScreenPorch', 'PoolArea', 'MiscVal' , 'MoSold', 'YrSold']\n"
   ]
  },
  {
   "cell_type": "code",
   "execution_count": 174,
   "metadata": {},
   "outputs": [
    {
     "name": "stdout",
     "output_type": "stream",
     "text": [
      "(2042, 81)\n",
      "(510, 81)\n"
     ]
    }
   ],
   "source": [
    "top_twenty = list(data.nlargest((round(len(data)*.2)),'GrLivArea').PID)\n",
    "bottom_eighty = list(data.nsmallest((round(len(data)*.8)),'GrLivArea').PID)\n",
    "\n",
    "btm_80_df = data[data['PID'].isin(bottom_eighty)].copy()\n",
    "top_20_df = data[data['PID'].isin(top_twenty)].copy()\n",
    "\n",
    "print(btm_80_df.shape)\n",
    "print(top_20_df.shape)\n",
    "# btm_80_df['NBHD_mean'] = btm_80_df.groupby('Neighborhood')['SalePricePerGLA'].transform('mean')\n",
    "# btm_80_df['NBHD_std'] = btm_80_df.groupby('Neighborhood')['SalePricePerGLA'].transform('std')"
   ]
  },
  {
   "cell_type": "code",
   "execution_count": 175,
   "metadata": {},
   "outputs": [
    {
     "name": "stdout",
     "output_type": "stream",
     "text": [
      "Nums len:  36 \n",
      "Ords len:  20 \n",
      "Cats len:  25 \n",
      "OG shape:  81\n"
     ]
    }
   ],
   "source": [
    "cats_ords = list(set(btm_80_df.columns) - set(btm_80_df[nums].columns))\n",
    "\n",
    "cats = list(set(btm_80_df[cats_ords].columns) - set(btm_80_df[ord_colnames].columns))\n",
    "print(\"Nums len: \", len(nums),\n",
    "      \"\\nOrds len: \", len(ord_colnames),\n",
    "      \"\\nCats len: \", len(cats),\n",
    "      \"\\nOG shape: \", len(btm_80_df.columns))\n",
    "enc_cats_df = pd.get_dummies(btm_80_df[cats],drop_first=True)\n",
    "\n",
    "nums_df = btm_80_df[nums]\n",
    "\n",
    "ords_df = btm_80_df[ord_colnames]"
   ]
  },
  {
   "cell_type": "code",
   "execution_count": 176,
   "metadata": {},
   "outputs": [
    {
     "name": "stdout",
     "output_type": "stream",
     "text": [
      "nums:  (2042, 36)\n",
      "ords:  (2042, 20)\n",
      "nums_ords:  (2042, 56)\n",
      "enc_cats:  (2042, 157)\n",
      "full_df:  (2042, 213)\n"
     ]
    }
   ],
   "source": [
    "print(\"nums: \", nums_df.shape)\n",
    "print(\"ords: \", ords_df.shape)\n",
    "nums_ords = nums_df.join(ords_df)\n",
    "print(\"nums_ords: \", nums_ords.shape)\n",
    "#nums_ords.head()\n",
    "print(\"enc_cats: \", enc_cats_df.shape)\n",
    "full_df = nums_ords.join(enc_cats_df)\n",
    "print(\"full_df: \", full_df.shape)"
   ]
  },
  {
   "cell_type": "markdown",
   "metadata": {},
   "source": [
    "### Putting all the data together so it can be used to train a model\n",
    "And saving any columns that may be useful later"
   ]
  },
  {
   "cell_type": "code",
   "execution_count": 177,
   "metadata": {},
   "outputs": [
    {
     "name": "stdout",
     "output_type": "stream",
     "text": [
      "With SP, GLA, and SPPGLA and PID:  (2042, 213)\n",
      "Without SP, GLA, SPPGLA, or PID:  (2042, 209)\n",
      "SP shape:  (2042,)\n",
      "SP shape:  (2042,)\n"
     ]
    }
   ],
   "source": [
    "y_SP = full_df['SalePrice']\n",
    "y_SPPGLA = full_df['SalePricePerGLA']\n",
    "X_GLA = full_df['GrLivArea']\n",
    "X_PID = full_df['PID']\n",
    "\n",
    "print(\"With SP, GLA, and SPPGLA and PID: \", full_df.shape)\n",
    "\n",
    "# full_data_df will make our lives much easier for getting predicted values\n",
    "full_data_df = full_df.copy()\n",
    "full_df.drop(['SalePrice'], axis=1, inplace=True)\n",
    "full_df.drop(['SalePricePerGLA'], axis=1, inplace=True)\n",
    "full_df.drop(['GrLivArea'], axis=1, inplace=True)\n",
    "full_df.drop(['PID'], axis=1, inplace=True)\n",
    "\n",
    "print(\"Without SP, GLA, SPPGLA, or PID: \", full_df.shape)\n",
    "\n",
    "# Test data set sizes\n",
    "print(\"SP shape: \",y_SP.shape)\n",
    "print(\"SP shape: \",y_SPPGLA.shape)"
   ]
  },
  {
   "cell_type": "markdown",
   "metadata": {},
   "source": [
    "### Split the data into training and test sets, instantiate an XGBRegressor with parameters found in the parameter_tuning notebook"
   ]
  },
  {
   "cell_type": "code",
   "execution_count": 28,
   "metadata": {},
   "outputs": [],
   "source": [
    "X_train, X_test, y_train, y_test = train_test_split(full_df, y_SPPGLA, test_size=0.25, random_state=42)\n",
    "\n",
    "params = {'objective':'reg:squarederror',\n",
    "          'colsample_bytree': 1,\n",
    "          'gamma': 0.5,\n",
    "          'learning_rate': 0.05,\n",
    "          'max_depth': 3,\n",
    "          'min_child_weight': 10,\n",
    "          'n_estimators': 1000,\n",
    "          'reg_alpha': 1,\n",
    "          'reg_lambda': 3,\n",
    "          'subsample': 0.4\n",
    "         }\n",
    "\n",
    "btm_80_xgbr = xgb.XGBRegressor(objective='reg:squarederror',\n",
    "                               colsample_bytree = 1,\n",
    "                               gamma = 0.5,\n",
    "                               learning_rate = 0.05,\n",
    "                               max_depth = 3,\n",
    "                               min_child_weight = 10,\n",
    "                               n_estimators = 1000,\n",
    "                               reg_alpha = 1,\n",
    "                               reg_lambda = 3,\n",
    "                               subsample = 0.4)"
   ]
  },
  {
   "cell_type": "markdown",
   "metadata": {},
   "source": [
    "### Perform 10-fold cross validation on the train split"
   ]
  },
  {
   "cell_type": "code",
   "execution_count": 29,
   "metadata": {},
   "outputs": [
    {
     "name": "stderr",
     "output_type": "stream",
     "text": [
      "C:\\Users\\pengu\\Anaconda3\\lib\\site-packages\\xgboost\\core.py:587: FutureWarning: Series.base is deprecated and will be removed in a future version\n",
      "  if getattr(data, 'base', None) is not None and \\\n",
      "C:\\Users\\pengu\\Anaconda3\\lib\\site-packages\\xgboost\\core.py:587: FutureWarning: Series.base is deprecated and will be removed in a future version\n",
      "  if getattr(data, 'base', None) is not None and \\\n",
      "C:\\Users\\pengu\\Anaconda3\\lib\\site-packages\\xgboost\\core.py:587: FutureWarning: Series.base is deprecated and will be removed in a future version\n",
      "  if getattr(data, 'base', None) is not None and \\\n",
      "C:\\Users\\pengu\\Anaconda3\\lib\\site-packages\\xgboost\\core.py:587: FutureWarning: Series.base is deprecated and will be removed in a future version\n",
      "  if getattr(data, 'base', None) is not None and \\\n",
      "C:\\Users\\pengu\\Anaconda3\\lib\\site-packages\\xgboost\\core.py:587: FutureWarning: Series.base is deprecated and will be removed in a future version\n",
      "  if getattr(data, 'base', None) is not None and \\\n",
      "C:\\Users\\pengu\\Anaconda3\\lib\\site-packages\\xgboost\\core.py:587: FutureWarning: Series.base is deprecated and will be removed in a future version\n",
      "  if getattr(data, 'base', None) is not None and \\\n",
      "C:\\Users\\pengu\\Anaconda3\\lib\\site-packages\\xgboost\\core.py:587: FutureWarning: Series.base is deprecated and will be removed in a future version\n",
      "  if getattr(data, 'base', None) is not None and \\\n",
      "C:\\Users\\pengu\\Anaconda3\\lib\\site-packages\\xgboost\\core.py:587: FutureWarning: Series.base is deprecated and will be removed in a future version\n",
      "  if getattr(data, 'base', None) is not None and \\\n",
      "C:\\Users\\pengu\\Anaconda3\\lib\\site-packages\\xgboost\\core.py:587: FutureWarning: Series.base is deprecated and will be removed in a future version\n",
      "  if getattr(data, 'base', None) is not None and \\\n",
      "C:\\Users\\pengu\\Anaconda3\\lib\\site-packages\\xgboost\\core.py:587: FutureWarning: Series.base is deprecated and will be removed in a future version\n",
      "  if getattr(data, 'base', None) is not None and \\\n"
     ]
    }
   ],
   "source": [
    "kfold = KFold(n_splits=10, shuffle=True)\n",
    "scores = cross_val_score(btm_80_xgbr, X_train, y_train, cv=kfold)"
   ]
  },
  {
   "cell_type": "code",
   "execution_count": 30,
   "metadata": {},
   "outputs": [
    {
     "name": "stdout",
     "output_type": "stream",
     "text": [
      "Mean cross-validation score is 0.81687 with std of 0.03416\n"
     ]
    }
   ],
   "source": [
    "print(\"Mean cross-validation score is %.5f with std of %.5f\" % (scores.mean(), scores.std()))"
   ]
  },
  {
   "cell_type": "code",
   "execution_count": 31,
   "metadata": {},
   "outputs": [
    {
     "name": "stderr",
     "output_type": "stream",
     "text": [
      "C:\\Users\\pengu\\Anaconda3\\lib\\site-packages\\xgboost\\core.py:587: FutureWarning: Series.base is deprecated and will be removed in a future version\n",
      "  if getattr(data, 'base', None) is not None and \\\n"
     ]
    },
    {
     "data": {
      "text/plain": [
       "0.8380700942329928"
      ]
     },
     "execution_count": 31,
     "metadata": {},
     "output_type": "execute_result"
    }
   ],
   "source": [
    "btm_80_xgbr.fit(X_train, y_train)\n",
    "#best_xgbr.score(X_train, y_train)\n",
    "#best_xgbr.fit(X_test,y_test)\n",
    "btm_80_xgbr.score(X_test, y_test)"
   ]
  },
  {
   "cell_type": "markdown",
   "metadata": {},
   "source": [
    "### Get the feature importance as a dictionary and convert it into a dataframe for future use"
   ]
  },
  {
   "cell_type": "code",
   "execution_count": 32,
   "metadata": {},
   "outputs": [],
   "source": [
    "#%%capture\n",
    "rel_features_dict = OrderedDict(sorted(btm_80_xgbr.get_booster().get_fscore().items(), key=lambda t: t[1], reverse=False))\n",
    "rel_features = pd.DataFrame.from_dict(rel_features_dict,orient='index', columns = ['Weight'])"
   ]
  },
  {
   "cell_type": "markdown",
   "metadata": {},
   "source": [
    "### Plot feature importance"
   ]
  },
  {
   "cell_type": "code",
   "execution_count": 59,
   "metadata": {
    "scrolled": true
   },
   "outputs": [
    {
     "data": {
      "image/png": "[encoded data removed]",
      "text/plain": [
       "<Figure size 720x720 with 1 Axes>"
      ]
     },
     "metadata": {
      "needs_background": "light"
     },
     "output_type": "display_data"
    }
   ],
   "source": [
    "fig = rel_features.tail(20).plot.barh()\n",
    "plt.rcParams[\"figure.figsize\"] = (10,10)\n",
    "plt.xlabel('Feature Importances')\n",
    "plt.ylabel('Features')\n",
    "plt.title('XGBoost Regression: Feature Importances')\n",
    "plt.show()"
   ]
  },
  {
   "cell_type": "code",
   "execution_count": 63,
   "metadata": {},
   "outputs": [
    {
     "data": {
      "text/html": [
       "<div>\n",
       "<style scoped>\n",
       "    .dataframe tbody tr th:only-of-type {\n",
       "        vertical-align: middle;\n",
       "    }\n",
       "\n",
       "    .dataframe tbody tr th {\n",
       "        vertical-align: top;\n",
       "    }\n",
       "\n",
       "    .dataframe thead th {\n",
       "        text-align: right;\n",
       "    }\n",
       "</style>\n",
       "<table border=\"1\" class=\"dataframe\">\n",
       "  <thead>\n",
       "    <tr style=\"text-align: right;\">\n",
       "      <th></th>\n",
       "      <th>Weight</th>\n",
       "    </tr>\n",
       "  </thead>\n",
       "  <tbody>\n",
       "    <tr>\n",
       "      <th>1stFlrSF</th>\n",
       "      <td>402</td>\n",
       "    </tr>\n",
       "    <tr>\n",
       "      <th>LotArea</th>\n",
       "      <td>360</td>\n",
       "    </tr>\n",
       "    <tr>\n",
       "      <th>BsmtUnfSF</th>\n",
       "      <td>301</td>\n",
       "    </tr>\n",
       "    <tr>\n",
       "      <th>BsmtFinSF1</th>\n",
       "      <td>269</td>\n",
       "    </tr>\n",
       "    <tr>\n",
       "      <th>GarageArea</th>\n",
       "      <td>250</td>\n",
       "    </tr>\n",
       "    <tr>\n",
       "      <th>TotalBsmtSF</th>\n",
       "      <td>208</td>\n",
       "    </tr>\n",
       "    <tr>\n",
       "      <th>YearBuilt</th>\n",
       "      <td>190</td>\n",
       "    </tr>\n",
       "    <tr>\n",
       "      <th>YearRemodAdd</th>\n",
       "      <td>185</td>\n",
       "    </tr>\n",
       "    <tr>\n",
       "      <th>LotFrontage</th>\n",
       "      <td>173</td>\n",
       "    </tr>\n",
       "    <tr>\n",
       "      <th>GarageYrBlt</th>\n",
       "      <td>173</td>\n",
       "    </tr>\n",
       "    <tr>\n",
       "      <th>OpenPorchSF</th>\n",
       "      <td>168</td>\n",
       "    </tr>\n",
       "    <tr>\n",
       "      <th>MoSold</th>\n",
       "      <td>167</td>\n",
       "    </tr>\n",
       "    <tr>\n",
       "      <th>OverallQual</th>\n",
       "      <td>164</td>\n",
       "    </tr>\n",
       "    <tr>\n",
       "      <th>2ndFlrSF</th>\n",
       "      <td>149</td>\n",
       "    </tr>\n",
       "    <tr>\n",
       "      <th>SaleCondition_Normal</th>\n",
       "      <td>124</td>\n",
       "    </tr>\n",
       "    <tr>\n",
       "      <th>WoodDeckSF</th>\n",
       "      <td>116</td>\n",
       "    </tr>\n",
       "    <tr>\n",
       "      <th>EnclosedPorch</th>\n",
       "      <td>113</td>\n",
       "    </tr>\n",
       "    <tr>\n",
       "      <th>OverallCond</th>\n",
       "      <td>112</td>\n",
       "    </tr>\n",
       "    <tr>\n",
       "      <th>TotRmsAbvGrd</th>\n",
       "      <td>102</td>\n",
       "    </tr>\n",
       "    <tr>\n",
       "      <th>YrSold</th>\n",
       "      <td>94</td>\n",
       "    </tr>\n",
       "  </tbody>\n",
       "</table>\n",
       "</div>"
      ],
      "text/plain": [
       "                      Weight\n",
       "1stFlrSF                 402\n",
       "LotArea                  360\n",
       "BsmtUnfSF                301\n",
       "BsmtFinSF1               269\n",
       "GarageArea               250\n",
       "TotalBsmtSF              208\n",
       "YearBuilt                190\n",
       "YearRemodAdd             185\n",
       "LotFrontage              173\n",
       "GarageYrBlt              173\n",
       "OpenPorchSF              168\n",
       "MoSold                   167\n",
       "OverallQual              164\n",
       "2ndFlrSF                 149\n",
       "SaleCondition_Normal     124\n",
       "WoodDeckSF               116\n",
       "EnclosedPorch            113\n",
       "OverallCond              112\n",
       "TotRmsAbvGrd             102\n",
       "YrSold                    94"
      ]
     },
     "execution_count": 63,
     "metadata": {},
     "output_type": "execute_result"
    }
   ],
   "source": [
    "rel_features.sort_values(by=['Weight'], ascending=False).head(20)"
   ]
  },
  {
   "cell_type": "markdown",
   "metadata": {},
   "source": [
    "### These features were determined to be too difficult (or impossible) to change, and therefore will not be considered for improvement"
   ]
  },
  {
   "cell_type": "code",
   "execution_count": null,
   "metadata": {},
   "outputs": [],
   "source": [
    "unchangeable_feats = ([feat for feat in list(rel_features.index) if 'Neighborhood' in feat] +\n",
    " [feat for feat in list(rel_features.index) if 'Condition1' in feat] +\n",
    " [feat for feat in list(rel_features.index) if 'Condition2' in feat] +\n",
    " [feat for feat in list(rel_features.index) if 'Exterior1st' in feat] +\n",
    " [feat for feat in list(rel_features.index) if 'MSSubClass' in feat] +\n",
    " [feat for feat in list(rel_features.index) if 'SaleCondition' in feat] +\n",
    " [feat for feat in list(rel_features.index) if 'GarageType' in feat] +\n",
    " [feat for feat in list(rel_features.index) if 'LandContour' in feat] +\n",
    " [feat for feat in list(rel_features.index) if 'MSZoning' in feat] +\n",
    " [feat for feat in list(rel_features.index) if 'HouseStyle' in feat] +\n",
    " [feat for feat in list(rel_features.index) if 'Foundation' in feat] +\n",
    " [feat for feat in list(rel_features.index) if 'LotConfig' in feat] +\n",
    " ['LotShape'] + ['ExterQual'] + ['const'] + ['YearBuilt'] + ['2ndFlrSF'] +\n",
    " ['GarageArea '] + ['BedroomAbvGr'] + ['LotArea'] + ['LotFrontage'] + ['GarageYrBlt'] +\n",
    " ['MoSold'] + ['YrSold'] + ['LandSlope'] + ['1stFlrSF'] + ['BsmtUnfSF'] + ['TotalBsmtSF'] +\n",
    " ['LotFrontage'] + ['GarageArea'] + ['TotRmsAbvGrd'])\n",
    "\n",
    "changeable_feats = list(set(rel_features.index) - set(unchangeable_feats))\n",
    "\n",
    "chng_rel_feats = rel_features[rel_features.index.isin(changeable_feats)]"
   ]
  },
  {
   "cell_type": "markdown",
   "metadata": {},
   "source": [
    "### Plot the most important changeable (improvable) features"
   ]
  },
  {
   "cell_type": "code",
   "execution_count": 64,
   "metadata": {},
   "outputs": [
    {
     "data": {
      "image/png": "[encoded data removed]",
      "text/plain": [
       "<Figure size 720x720 with 1 Axes>"
      ]
     },
     "metadata": {
      "needs_background": "light"
     },
     "output_type": "display_data"
    }
   ],
   "source": [
    "chng_rel_feats.tail(15).plot.barh()\n",
    "plt.xlabel('Feature Importances')\n",
    "plt.ylabel('Features')\n",
    "plt.title('XGBoost Regression: Improvable Feature Importances')\n",
    "plt.show()"
   ]
  },
  {
   "cell_type": "code",
   "execution_count": 67,
   "metadata": {
    "scrolled": false
   },
   "outputs": [
    {
     "data": {
      "text/html": [
       "<div>\n",
       "<style scoped>\n",
       "    .dataframe tbody tr th:only-of-type {\n",
       "        vertical-align: middle;\n",
       "    }\n",
       "\n",
       "    .dataframe tbody tr th {\n",
       "        vertical-align: top;\n",
       "    }\n",
       "\n",
       "    .dataframe thead th {\n",
       "        text-align: right;\n",
       "    }\n",
       "</style>\n",
       "<table border=\"1\" class=\"dataframe\">\n",
       "  <thead>\n",
       "    <tr style=\"text-align: right;\">\n",
       "      <th></th>\n",
       "      <th>Weight</th>\n",
       "    </tr>\n",
       "  </thead>\n",
       "  <tbody>\n",
       "    <tr>\n",
       "      <th>BsmtFinSF1</th>\n",
       "      <td>269</td>\n",
       "    </tr>\n",
       "    <tr>\n",
       "      <th>YearRemodAdd</th>\n",
       "      <td>185</td>\n",
       "    </tr>\n",
       "    <tr>\n",
       "      <th>OpenPorchSF</th>\n",
       "      <td>168</td>\n",
       "    </tr>\n",
       "    <tr>\n",
       "      <th>OverallQual</th>\n",
       "      <td>164</td>\n",
       "    </tr>\n",
       "    <tr>\n",
       "      <th>WoodDeckSF</th>\n",
       "      <td>116</td>\n",
       "    </tr>\n",
       "    <tr>\n",
       "      <th>EnclosedPorch</th>\n",
       "      <td>113</td>\n",
       "    </tr>\n",
       "    <tr>\n",
       "      <th>OverallCond</th>\n",
       "      <td>112</td>\n",
       "    </tr>\n",
       "    <tr>\n",
       "      <th>MasVnrArea</th>\n",
       "      <td>77</td>\n",
       "    </tr>\n",
       "    <tr>\n",
       "      <th>BsmtFinType1</th>\n",
       "      <td>63</td>\n",
       "    </tr>\n",
       "    <tr>\n",
       "      <th>HeatingQC</th>\n",
       "      <td>51</td>\n",
       "    </tr>\n",
       "    <tr>\n",
       "      <th>BsmtExposure</th>\n",
       "      <td>45</td>\n",
       "    </tr>\n",
       "    <tr>\n",
       "      <th>Fireplaces</th>\n",
       "      <td>43</td>\n",
       "    </tr>\n",
       "    <tr>\n",
       "      <th>Functional</th>\n",
       "      <td>39</td>\n",
       "    </tr>\n",
       "    <tr>\n",
       "      <th>BsmtFinType2</th>\n",
       "      <td>38</td>\n",
       "    </tr>\n",
       "    <tr>\n",
       "      <th>Fence</th>\n",
       "      <td>37</td>\n",
       "    </tr>\n",
       "  </tbody>\n",
       "</table>\n",
       "</div>"
      ],
      "text/plain": [
       "               Weight\n",
       "BsmtFinSF1        269\n",
       "YearRemodAdd      185\n",
       "OpenPorchSF       168\n",
       "OverallQual       164\n",
       "WoodDeckSF        116\n",
       "EnclosedPorch     113\n",
       "OverallCond       112\n",
       "MasVnrArea         77\n",
       "BsmtFinType1       63\n",
       "HeatingQC          51\n",
       "BsmtExposure       45\n",
       "Fireplaces         43\n",
       "Functional         39\n",
       "BsmtFinType2       38\n",
       "Fence              37"
      ]
     },
     "execution_count": 67,
     "metadata": {},
     "output_type": "execute_result"
    }
   ],
   "source": [
    "chng_rel_feats.sort_values(by=['Weight'], ascending=False).head(15)"
   ]
  },
  {
   "cell_type": "code",
   "execution_count": 178,
   "metadata": {},
   "outputs": [],
   "source": [
    "btm_80_df['NBHD_mean'] = btm_80_df.groupby('Neighborhood')['SalePricePerGLA'].transform('mean')\n",
    "btm_80_df['NBHD_std'] = btm_80_df.groupby('Neighborhood')['SalePricePerGLA'].transform('std')"
   ]
  },
  {
   "cell_type": "markdown",
   "metadata": {},
   "source": [
    "### We used the neighborhood mean and std to determine whether a home was undervalued (according to its SalePricePerGLA)"
   ]
  },
  {
   "cell_type": "code",
   "execution_count": 179,
   "metadata": {},
   "outputs": [
    {
     "name": "stdout",
     "output_type": "stream",
     "text": [
      "(308, 84)\n"
     ]
    }
   ],
   "source": [
    "btm_80_df.dropna(inplace=True)\n",
    "\n",
    "under_val_df = btm_80_df[ btm_80_df['SalePricePerGLA'] < (btm_80_df['NBHD_mean']-btm_80_df['NBHD_std'])].copy()\n",
    "\n",
    "\n",
    "under_val_df['Naive_SalePrice'] = under_val_df['GrLivArea']*under_val_df['SalePricePerGLA']\n",
    "print(under_val_df.shape)\n"
   ]
  },
  {
   "cell_type": "code",
   "execution_count": 180,
   "metadata": {},
   "outputs": [
    {
     "data": {
      "text/plain": [
       "Index(['BsmtFinSF1', 'YearRemodAdd', 'OpenPorchSF', 'OverallQual',\n",
       "       'WoodDeckSF', 'EnclosedPorch', 'OverallCond', 'MasVnrArea',\n",
       "       'BsmtFinType1', 'HeatingQC', 'BsmtExposure', 'Fireplaces', 'Functional',\n",
       "       'BsmtFinType2', 'Fence'],\n",
       "      dtype='object')"
      ]
     },
     "execution_count": 180,
     "metadata": {},
     "output_type": "execute_result"
    }
   ],
   "source": [
    "feats_to_improve = chng_rel_feats.sort_values(by=['Weight'], ascending=False).head(15).index\n",
    "feats_to_improve"
   ]
  },
  {
   "cell_type": "markdown",
   "metadata": {},
   "source": [
    "#### This was used to find the improvable ordinal features"
   ]
  },
  {
   "cell_type": "code",
   "execution_count": 181,
   "metadata": {},
   "outputs": [
    {
     "name": "stdout",
     "output_type": "stream",
     "text": [
      "# of Feats to improve:  15\n",
      "# of Ords:  8\n",
      "# of Not Ords:  7\n",
      "['BsmtExposure', 'Fence', 'HeatingQC', 'BsmtFinType2', 'Functional', 'OverallQual', 'BsmtFinType1', 'OverallCond']\n"
     ]
    }
   ],
   "source": [
    "ord_colnames = ['OverallQual', 'OverallCond',\n",
    "                'ExterQual', 'ExterCond', 'BsmtQual', 'BsmtCond',\n",
    "                'BsmtExposure', 'BsmtFinType1', 'BsmtFinType2', 'HeatingQC',\n",
    "                'KitchenQual', 'Functional', 'FireplaceQu', 'GarageFinish',\n",
    "                'GarageQual', 'GarageCond', 'PoolQC', 'Fence']\n",
    "\n",
    "improvable_non_ords = list(set(feats_to_improve) - set(ord_colnames))\n",
    "improvable_ords = list(set(feats_to_improve) - set(improvable_non_ords))\n",
    "\n",
    "print(\"# of Feats to improve: \", len(feats_to_improve))\n",
    "print(\"# of Ords: \", len(improvable_ords))\n",
    "print(\"# of Not Ords: \", len(improvable_non_ords))\n",
    "\n",
    "print(improvable_ords)"
   ]
  },
  {
   "cell_type": "code",
   "execution_count": 184,
   "metadata": {},
   "outputs": [],
   "source": [
    "underval_preds = under_val_df.copy()\n",
    "\n",
    "uv_SP = underval_preds['SalePrice']\n",
    "uv_SPPGLA = underval_preds['SalePricePerGLA']\n",
    "uv_GLA = underval_preds['GrLivArea']\n",
    "uv_PID = underval_preds['PID']\n",
    "\n",
    "# underval_preds.drop(['SalePrice', 'SalePricePerGLA', 'GrLivArea', 'PID',], axis=1, inplace=True)\n",
    "# underval_preds.drop(['NBHD_mean', 'NBHD_std', 'Naive_SalePrice'], axis=1, inplace=True)\n",
    "\n",
    "#underval_preds.columns"
   ]
  },
  {
   "cell_type": "markdown",
   "metadata": {},
   "source": [
    "#### Getting just the common features across all the models"
   ]
  },
  {
   "cell_type": "code",
   "execution_count": 192,
   "metadata": {},
   "outputs": [
    {
     "data": {
      "text/plain": [
       "['OverallQual', 'OverallCond', 'BsmtFinSF1', 'Functional', 'BsmtExposure']"
      ]
     },
     "execution_count": 192,
     "metadata": {},
     "output_type": "execute_result"
    }
   ],
   "source": [
    "rf_improvable_feat = ['OverallQual', 'BsmtFinType1', 'OverallCond', 'BsmtFinSF1', 'YearRemodAdd',\n",
    "'BsmtUnfSF', 'Functional', 'TotRmsAbvGrd', 'BsmtQual', 'KitchenAbvGr',\n",
    "'WoodDeckSF', 'OpenPorchSF', 'BsmtExposure', 'EnclosedPorch', 'KitchenQual']\n",
    "xgboost_improvable_feat = ['BsmtFinSF1', 'YearRemodAdd', 'OpenPorchSF', 'OverallQual',\n",
    "       'WoodDeckSF', 'EnclosedPorch', 'OverallCond', 'MasVnrArea',\n",
    "       'BsmtFinType1', 'HeatingQC', 'BsmtExposure', 'Fireplaces', 'Functional',\n",
    "       'BsmtFinType2', 'Fence']\n",
    "svr_improvable_feat = ['OverallQual', 'OverallCond', 'BsmtFinSF1', 'BsmtExposure', 'MasVnrType_None',\n",
    " 'MasVnrType_BrkFace', 'KitchenQual', 'MiscFeature_NoneListed', 'BsmtQual', 'BsmtFullBath',\n",
    " 'MiscFeature_Shed', 'MasVnrArea', 'Functional', 'FireplaceQu', 'KitchenAbvGr',\n",
    " 'BsmtUnfSF', 'LowQualFinSF']\n",
    "common_improvable_feat = [feat for feat in [feat for feat in rf_improvable_feat if feat in xgboost_improvable_feat] if feat in svr_improvable_feat]\n",
    "common_improvable_feat"
   ]
  },
  {
   "cell_type": "markdown",
   "metadata": {},
   "source": [
    "### Giving the undervalued homes new values in the common features"
   ]
  },
  {
   "cell_type": "code",
   "execution_count": 185,
   "metadata": {},
   "outputs": [],
   "source": [
    "uv_df = full_data_df[full_data_df['PID'].isin(uv_PID)].copy()\n",
    "\n",
    "uv_df.loc[:,'BsmtExposure'] = 3 # Av\n",
    "uv_df.loc[:,'Functional'] = 6 #'Min1'\n",
    "uv_df.loc[:,'OverallQual'] = 9\n",
    "uv_df.loc[:,'OverallCond'] = 9"
   ]
  },
  {
   "cell_type": "markdown",
   "metadata": {},
   "source": [
    "#### To increase Basement Finished Square Footage, your unfinished basement square footage would decrease"
   ]
  },
  {
   "cell_type": "code",
   "execution_count": 186,
   "metadata": {},
   "outputs": [],
   "source": [
    "uv_old_BsmtFinSF1 = uv_df['BsmtFinSF1']\n",
    "uv_df['BsmtFinSF1'] = uv_df['BsmtFinSF1'] + (uv_df['BsmtUnfSF']/2)\n",
    "uv_old_BsmtUnfSF = uv_df['BsmtUnfSF']\n",
    "uv_df['BsmtUnfSF'] = uv_df['BsmtUnfSF']/2"
   ]
  },
  {
   "cell_type": "code",
   "execution_count": 187,
   "metadata": {},
   "outputs": [],
   "source": [
    "uv_df.drop(['SalePrice'], axis=1, inplace=True)\n",
    "uv_df.drop(['SalePricePerGLA'], axis=1, inplace=True)\n",
    "uv_df.drop(['GrLivArea'], axis=1, inplace=True)\n",
    "uv_df.drop(['PID'], axis=1, inplace=True)"
   ]
  },
  {
   "cell_type": "markdown",
   "metadata": {},
   "source": [
    "### Predicting the new SPperGLA for each undervalued home"
   ]
  },
  {
   "cell_type": "code",
   "execution_count": 188,
   "metadata": {},
   "outputs": [],
   "source": [
    "uv_pred = btm_80_xgbr.predict(uv_df)\n",
    "uv_df['pred_SPPGLA'] = uv_pred"
   ]
  },
  {
   "cell_type": "code",
   "execution_count": 189,
   "metadata": {},
   "outputs": [],
   "source": [
    "uv_df['PID'] = uv_PID\n",
    "uv_df['SalePrice'] = uv_SP\n",
    "uv_df['SalePricePerGLA'] = uv_SPPGLA\n",
    "uv_df['GrLivArea'] = uv_GLA"
   ]
  },
  {
   "cell_type": "markdown",
   "metadata": {},
   "source": [
    "#### Calculating the new SalePrice based on the predicted SPperGLA"
   ]
  },
  {
   "cell_type": "code",
   "execution_count": 190,
   "metadata": {},
   "outputs": [],
   "source": [
    "uv_df['pred_SP'] = uv_df['pred_SPPGLA'] * uv_df['GrLivArea']\n",
    "uv_df['gained_SP'] = uv_df['pred_SP'] - uv_df['SalePrice']"
   ]
  },
  {
   "cell_type": "code",
   "execution_count": 205,
   "metadata": {},
   "outputs": [],
   "source": [
    "top_uv = uv_df[['PID','GrLivArea','SalePricePerGLA','SalePrice','pred_SPPGLA','pred_SP','gained_SP']].sort_values(by=['gained_SP'], ascending=False).head(30)"
   ]
  },
  {
   "cell_type": "code",
   "execution_count": 206,
   "metadata": {},
   "outputs": [
    {
     "data": {
      "text/plain": [
       "(308, 216)"
      ]
     },
     "execution_count": 206,
     "metadata": {},
     "output_type": "execute_result"
    }
   ],
   "source": [
    "uv_df.shape"
   ]
  },
  {
   "cell_type": "markdown",
   "metadata": {},
   "source": [
    "#### This lists the top 30 homes that would see the greatest increase in sale price if improved accordingly"
   ]
  },
  {
   "cell_type": "code",
   "execution_count": 207,
   "metadata": {
    "scrolled": true
   },
   "outputs": [
    {
     "data": {
      "text/plain": [
       "[908275110,\n",
       " 535126100,\n",
       " 923125030,\n",
       " 534252060,\n",
       " 528228295,\n",
       " 534427010,\n",
       " 533352150,\n",
       " 905200290,\n",
       " 535354260,\n",
       " 902305090,\n",
       " 535475020,\n",
       " 532479120,\n",
       " 905226110,\n",
       " 905103060,\n",
       " 535452120,\n",
       " 902207130,\n",
       " 905450020,\n",
       " 923205025,\n",
       " 535325320,\n",
       " 916402115,\n",
       " 911102170,\n",
       " 923202060,\n",
       " 534451150,\n",
       " 535327230,\n",
       " 902301060,\n",
       " 535150070,\n",
       " 905478030,\n",
       " 916402015,\n",
       " 526302120,\n",
       " 909256060]"
      ]
     },
     "execution_count": 207,
     "metadata": {},
     "output_type": "execute_result"
    }
   ],
   "source": [
    "list(top_uv['PID'])"
   ]
  },
  {
   "cell_type": "code",
   "execution_count": null,
   "metadata": {},
   "outputs": [],
   "source": []
  }
 ],
 "metadata": {
  "kernelspec": {
   "display_name": "Python 3",
   "language": "python",
   "name": "python3"
  },
  "language_info": {
   "codemirror_mode": {
    "name": "ipython",
    "version": 3
   },
   "file_extension": ".py",
   "mimetype": "text/x-python",
   "name": "python",
   "nbconvert_exporter": "python",
   "pygments_lexer": "ipython3",
   "version": "3.7.3"
  }
 },
 "nbformat": 4,
 "nbformat_minor": 2
}
