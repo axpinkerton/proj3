{
 "cells": [
  {
   "cell_type": "code",
   "execution_count": 1,
   "metadata": {
    "scrolled": true
   },
   "outputs": [
    {
     "name": "stdout",
     "output_type": "stream",
     "text": [
      "(2580, 81)\n"
     ]
    }
   ],
   "source": [
    "import numpy as np\n",
    "import sys\n",
    "import pandas as pd\n",
    "import matplotlib\n",
    "from matplotlib import pyplot as plt\n",
    "import seaborn as sns\n",
    "\n",
    "%matplotlib inline \n",
    "\n",
    "data = pd.read_csv('./data/Ames_Housing_Price_Data.csv', index_col=0)\n",
    "print(data.shape)\n",
    "#data.head()\n",
    "data = data.reset_index(drop=True)"
   ]
  },
  {
   "cell_type": "code",
   "execution_count": 2,
   "metadata": {},
   "outputs": [],
   "source": [
    "#target_df = data['SalePrice']\n",
    "cat_df = data[['SalePrice', 'PID', 'MSSubClass', 'MSZoning', 'Street', 'Alley', 'LotShape', \n",
    "    'LandContour', 'Utilities', 'LotConfig', 'LandSlope', 'Neighborhood', \n",
    "    'Condition1', 'Condition2', 'BldgType', 'HouseStyle', 'OverallQual', \n",
    "    'OverallCond', 'RoofStyle', 'RoofMatl', 'Exterior1st', 'Exterior2nd', \n",
    "    'MasVnrType', 'ExterQual', 'ExterCond', 'Foundation', 'BsmtQual', \n",
    "    'BsmtCond', 'BsmtExposure', 'BsmtFinType1', 'BsmtFinType2', 'Heating', \n",
    "    'HeatingQC', 'CentralAir', 'Electrical', 'KitchenQual', \n",
    "    'Functional', 'FireplaceQu', 'GarageType', 'GarageFinish', \n",
    "    'GarageQual', 'GarageCond', 'PavedDrive', 'PoolQC', 'Fence', \n",
    "    'MiscFeature', 'SaleType', 'SaleCondition']]\n",
    "\n",
    "#cat_df.to_csv('./data/cat_data_CLEAN_og.csv')\n",
    "#test_df = cat_df.copy()\n",
    "test_df = data.copy()"
   ]
  },
  {
   "cell_type": "markdown",
   "metadata": {},
   "source": [
    "### Cleaning Categoricals"
   ]
  },
  {
   "cell_type": "code",
   "execution_count": 3,
   "metadata": {},
   "outputs": [],
   "source": [
    "# Dropping Data\n",
    "# Remove duplicates\n",
    "test_df.drop_duplicates(inplace=True)\n",
    "# Remove observation with outlier values within features\n",
    "feats_w_outliers = [\"MiscFeature\", \"Utilities\", \"Functional\", \"Heating\", \"SaleCondition\"]\n",
    "bad_var = [\"TenC\", \"Othr\", \"NoSewr\", \"Sal\", \"Floor\", \"Family\", \"AdjLand\"]\n",
    "for feat in feats_w_outliers:\n",
    "    for var in bad_var:\n",
    "        test_df = test_df[test_df[feat]!=var]\n",
    "# Only 1 value for all features, cannot affect sale price\n",
    "test_df.drop(['Utilities'], axis=1, inplace=True)\n"
   ]
  },
  {
   "cell_type": "code",
   "execution_count": 4,
   "metadata": {},
   "outputs": [],
   "source": [
    "# Convert to strings bc these aren't numerics\n",
    "test_df['MSSubClass'] = test_df['MSSubClass'].astype(str)\n",
    "test_df['OverallQual'] = test_df['OverallQual'].astype(str)\n",
    "test_df['OverallCond'] = test_df['OverallCond'].astype(str)"
   ]
  },
  {
   "cell_type": "code",
   "execution_count": 5,
   "metadata": {},
   "outputs": [],
   "source": [
    "# Filling missing values with mode vals\n",
    "test_df['Electrical'] = test_df['Electrical'].fillna(test_df['Electrical'].mode()[0])"
   ]
  },
  {
   "cell_type": "code",
   "execution_count": 6,
   "metadata": {},
   "outputs": [],
   "source": [
    "# Filling missing vals with NoneListed\n",
    "test_df['Alley'] = test_df['Alley'].fillna('NoneListed')\n",
    "\n",
    "test_df['BsmtCond'] = test_df['BsmtCond'].fillna('NoneListed')\n",
    "test_df['BsmtQual'] = test_df['BsmtQual'].fillna('NoneListed')\n",
    "test_df['BsmtExposure'] = test_df['BsmtExposure'].fillna('NoneListed')\n",
    "test_df['BsmtFinType1'] = test_df['BsmtFinType1'].fillna('NoneListed')\n",
    "test_df['BsmtFinType2'] = test_df['BsmtFinType2'].fillna('NoneListed')\n",
    "\n",
    "test_df['GarageType'] = test_df['GarageType'].fillna('NoneListed')\n",
    "test_df['GarageFinish'] = test_df['GarageFinish'].fillna('NoneListed')\n",
    "test_df['GarageQual'] = test_df['GarageQual'].fillna('NoneListed')\n",
    "test_df['GarageCond'] = test_df['GarageCond'].fillna('NoneListed')\n",
    "\n",
    "test_df['PoolQC'] = test_df['PoolQC'].fillna('NoneListed')\n",
    "test_df['Fence'] = test_df['Fence'].fillna('NoneListed')\n",
    "test_df['MasVnrType'] = test_df['MasVnrType'].fillna('NoneListed')\n",
    "test_df['FireplaceQu'] = test_df['FireplaceQu'].fillna('NoneListed')\n",
    "\n",
    "test_df['MiscFeature'] = test_df['MiscFeature'].fillna('NoneListed')"
   ]
  },
  {
   "cell_type": "markdown",
   "metadata": {},
   "source": [
    "### Cleaning Numericals"
   ]
  },
  {
   "cell_type": "code",
   "execution_count": 7,
   "metadata": {},
   "outputs": [],
   "source": [
    "# replacing most with zeros\n",
    "test_df[['MasVnrArea','TotalBsmtSF','BsmtUnfSF', 'BsmtFinSF2', \n",
    "         'BsmtFinSF1', 'GarageArea', 'GarageCars', 'BsmtHalfBath', \n",
    "         'BsmtFullBath']] = test_df[['MasVnrArea', 'TotalBsmtSF','BsmtUnfSF', 'BsmtFinSF2', \n",
    "                                    'BsmtFinSF1','GarageArea', 'GarageCars', 'BsmtHalfBath',\n",
    "                                    'BsmtFullBath']].replace(np.nan, 0) "
   ]
  },
  {
   "cell_type": "code",
   "execution_count": 8,
   "metadata": {
    "scrolled": true
   },
   "outputs": [],
   "source": [
    "# LotFrontage could not be replaced with zeroes as most houses have frontage, and 0 would skew\n",
    "# the data highly. We group them by BldgType and took the median to fill in the values.\n",
    "\n",
    "test_df['LotFrontage'] = test_df.groupby('BldgType')['LotFrontage'].apply(lambda x: x.fillna(x.median()))"
   ]
  },
  {
   "cell_type": "code",
   "execution_count": 9,
   "metadata": {
    "scrolled": true
   },
   "outputs": [],
   "source": [
    "# Same was the case for GarageYrBlt, but we grouped by YearBuilt.\n",
    "\n",
    "test_df['GarageYrBlt'] = test_df.groupby('YearBuilt')['GarageYrBlt'].apply(lambda x: x.replace(np.nan, x.median()))\n",
    "\n",
    "# There were 3 left over values, so we just used the median of the YearBuilt.\n",
    "\n",
    "test_df['GarageYrBlt']= test_df['GarageYrBlt'].fillna(test_df['YearBuilt'].median())"
   ]
  },
  {
   "cell_type": "code",
   "execution_count": 10,
   "metadata": {},
   "outputs": [
    {
     "data": {
      "text/plain": [
       "PID              0\n",
       "GrLivArea        0\n",
       "SalePrice        0\n",
       "MSSubClass       0\n",
       "MSZoning         0\n",
       "                ..\n",
       "MiscVal          0\n",
       "MoSold           0\n",
       "YrSold           0\n",
       "SaleType         0\n",
       "SaleCondition    0\n",
       "Length: 80, dtype: int64"
      ]
     },
     "execution_count": 10,
     "metadata": {},
     "output_type": "execute_result"
    }
   ],
   "source": [
    "np.sum(test_df.isna())"
   ]
  },
  {
   "cell_type": "code",
   "execution_count": 11,
   "metadata": {
    "scrolled": true
   },
   "outputs": [
    {
     "ename": "NameError",
     "evalue": "name 'feature' is not defined",
     "output_type": "error",
     "traceback": [
      "\u001b[0;31m---------------------------------------------------------------------------\u001b[0m",
      "\u001b[0;31mNameError\u001b[0m                                 Traceback (most recent call last)",
      "\u001b[0;32m<ipython-input-11-53699075780f>\u001b[0m in \u001b[0;36m<module>\u001b[0;34m\u001b[0m\n\u001b[1;32m      1\u001b[0m \u001b[0mfig\u001b[0m\u001b[0;34m,\u001b[0m \u001b[0;34m(\u001b[0m\u001b[0max1\u001b[0m\u001b[0;34m,\u001b[0m \u001b[0max2\u001b[0m\u001b[0;34m)\u001b[0m \u001b[0;34m=\u001b[0m \u001b[0mplt\u001b[0m\u001b[0;34m.\u001b[0m\u001b[0msubplots\u001b[0m\u001b[0;34m(\u001b[0m\u001b[0;36m1\u001b[0m\u001b[0;34m,\u001b[0m\u001b[0;36m2\u001b[0m\u001b[0;34m)\u001b[0m\u001b[0;34m\u001b[0m\u001b[0;34m\u001b[0m\u001b[0m\n\u001b[0;32m----> 2\u001b[0;31m \u001b[0mdata\u001b[0m\u001b[0;34m[\u001b[0m\u001b[0;34m[\u001b[0m\u001b[0mfeature\u001b[0m\u001b[0;34m,\u001b[0m\u001b[0;34m\"SalePrice\"\u001b[0m\u001b[0;34m]\u001b[0m\u001b[0;34m]\u001b[0m\u001b[0;34m.\u001b[0m\u001b[0mdropna\u001b[0m\u001b[0;34m(\u001b[0m\u001b[0;34m)\u001b[0m\u001b[0;34m.\u001b[0m\u001b[0mboxplot\u001b[0m\u001b[0;34m(\u001b[0m\u001b[0mby\u001b[0m\u001b[0;34m=\u001b[0m\u001b[0mfeature\u001b[0m\u001b[0;34m,\u001b[0m \u001b[0max\u001b[0m\u001b[0;34m=\u001b[0m\u001b[0max1\u001b[0m\u001b[0;34m)\u001b[0m\u001b[0;34m\u001b[0m\u001b[0;34m\u001b[0m\u001b[0m\n\u001b[0m\u001b[1;32m      3\u001b[0m \u001b[0max1\u001b[0m\u001b[0;34m.\u001b[0m\u001b[0mset_title\u001b[0m\u001b[0;34m(\u001b[0m\u001b[0mfeature\u001b[0m\u001b[0;34m+\u001b[0m\u001b[0;34m\" vs SalePrice\"\u001b[0m\u001b[0;34m)\u001b[0m\u001b[0;34m\u001b[0m\u001b[0;34m\u001b[0m\u001b[0m\n\u001b[1;32m      4\u001b[0m \u001b[0max1\u001b[0m\u001b[0;34m.\u001b[0m\u001b[0mset_xlabel\u001b[0m\u001b[0;34m(\u001b[0m\u001b[0mfeature\u001b[0m\u001b[0;34m)\u001b[0m\u001b[0;34m\u001b[0m\u001b[0;34m\u001b[0m\u001b[0m\n\u001b[1;32m      5\u001b[0m \u001b[0max1\u001b[0m\u001b[0;34m.\u001b[0m\u001b[0mset_ylabel\u001b[0m\u001b[0;34m(\u001b[0m\u001b[0;34m\"SalePrice\"\u001b[0m\u001b[0;34m)\u001b[0m\u001b[0;34m\u001b[0m\u001b[0;34m\u001b[0m\u001b[0m\n",
      "\u001b[0;31mNameError\u001b[0m: name 'feature' is not defined"
     ]
    },
    {
     "data": {
      "image/png": "[encoded data removed]",
      "text/plain": [
       "<Figure size 432x288 with 2 Axes>"
      ]
     },
     "metadata": {
      "needs_background": "light"
     },
     "output_type": "display_data"
    }
   ],
   "source": [
    "fig, (ax1, ax2) = plt.subplots(1,2)\n",
    "data[[feature,\"SalePrice\"]].dropna().boxplot(by=feature, ax=ax1)\n",
    "ax1.set_title(feature+\" vs SalePrice\")\n",
    "ax1.set_xlabel(feature)\n",
    "ax1.set_ylabel(\"SalePrice\")\n",
    "data[[feature,\"SalePricePerGLA\"]].dropna().boxplot(by=feature, ax=ax2)\n",
    "ax2.set_title(feature+\" vs SalePricePerGLA\")\n",
    "ax2.set_xlabel(feature)\n",
    "ax2.set_ylabel(\"SalePricePerGLA\")\n",
    "fig.set_figheight(4)\n",
    "fig.set_figwidth(15)\n",
    "plt.suptitle('')\n",
    "plt.show()"
   ]
  },
  {
   "cell_type": "code",
   "execution_count": 12,
   "metadata": {
    "scrolled": true
   },
   "outputs": [
    {
     "name": "stdout",
     "output_type": "stream",
     "text": [
      "(2552, 80)\n"
     ]
    },
    {
     "data": {
      "text/plain": [
       "<AxesSubplot:>"
      ]
     },
     "execution_count": 12,
     "metadata": {},
     "output_type": "execute_result"
    },
    {
     "data": {
      "image/png": "[encoded data removed]",
      "text/plain": [
       "<Figure size 432x288 with 1 Axes>"
      ]
     },
     "metadata": {
      "needs_background": "light"
     },
     "output_type": "display_data"
    }
   ],
   "source": [
    "print(test_df.shape)\n",
    "test_df.head()\n",
    "\n",
    "# Checking for missing values\n",
    "sns.heatmap(test_df.isnull(),yticklabels=False,cbar=False,cmap='viridis')\n"
   ]
  },
  {
   "cell_type": "markdown",
   "metadata": {},
   "source": [
    "### Feature Engineering - Sale Price per GLA"
   ]
  },
  {
   "cell_type": "code",
   "execution_count": 13,
   "metadata": {},
   "outputs": [],
   "source": [
    "test_df[\"SalePricePerGLA\"] = test_df['SalePrice']/test_df['GrLivArea']"
   ]
  },
  {
   "cell_type": "markdown",
   "metadata": {},
   "source": [
    "### Write to CSV"
   ]
  },
  {
   "cell_type": "code",
   "execution_count": 14,
   "metadata": {},
   "outputs": [],
   "source": [
    "test_df.to_csv('./data/all_data_CLEAN.csv')"
   ]
  },
  {
   "cell_type": "code",
   "execution_count": null,
   "metadata": {},
   "outputs": [],
   "source": []
  }
 ],
 "metadata": {
  "kernelspec": {
   "display_name": "Python 3",
   "language": "python",
   "name": "python3"
  },
  "language_info": {
   "codemirror_mode": {
    "name": "ipython",
    "version": 3
   },
   "file_extension": ".py",
   "mimetype": "text/x-python",
   "name": "python",
   "nbconvert_exporter": "python",
   "pygments_lexer": "ipython3",
   "version": "3.8.5"
  }
 },
 "nbformat": 4,
 "nbformat_minor": 2
}
