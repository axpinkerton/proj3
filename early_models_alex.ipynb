{
 "cells": [
  {
   "cell_type": "code",
   "execution_count": 127,
   "metadata": {},
   "outputs": [],
   "source": [
    "import pandas as pd\n",
    "import numpy as np\n",
    "import matplotlib.pyplot as plt\n",
    "import sklearn\n",
    "import sklearn.ensemble\n",
    "import sklearn.feature_selection\n",
    "import sklearn.linear_model\n",
    "import sklearn.model_selection\n",
    "import sklearn.tree\n",
    "import sklearn.utils\n",
    "import sklearn\n",
    "from copy import deepcopy\n",
    "pd.set_option('display.max_columns', None)"
   ]
  },
  {
   "cell_type": "code",
   "execution_count": 128,
   "metadata": {},
   "outputs": [],
   "source": [
    "data = pd.read_csv('cleaned/Ames_Housing_Price_Data_CLEAN.csv') "
   ]
  },
  {
   "cell_type": "code",
   "execution_count": 188,
   "metadata": {},
   "outputs": [],
   "source": [
    "data.replace('NaN',value=np.nan)\n",
    "data.isnull().any().sum()\n",
    "data['SpSf'] = data['SalePrice'] / data['GrLivArea']"
   ]
  },
  {
   "cell_type": "code",
   "execution_count": 199,
   "metadata": {
    "scrolled": true
   },
   "outputs": [],
   "source": [
    "data.columns\n",
    "y1 = data['SalePrice']\n",
    "y2 = data['SpSf']\n",
    "X_nums = ['GrLivArea','LotFrontage', 'LotArea','OverallQual', 'OverallCond','YearBuilt', 'YearRemodAdd','MasVnrArea', 'BsmtFinSF1', 'BsmtFinSF2', 'BsmtUnfSF', 'TotalBsmtSF','1stFlrSF','2ndFlrSF', 'LowQualFinSF', 'BsmtFullBath', 'BsmtHalfBath', 'FullBath','HalfBath', 'BedroomAbvGr', 'KitchenAbvGr','TotRmsAbvGrd', 'Fireplaces','GarageYrBlt', 'GarageCars', 'GarageArea', 'WoodDeckSF', 'OpenPorchSF','EnclosedPorch', '3SsnPorch', 'ScreenPorch', 'PoolArea', 'MiscVal' , 'MoSold', 'YrSold']"
   ]
  },
  {
   "cell_type": "code",
   "execution_count": 210,
   "metadata": {
    "scrolled": false
   },
   "outputs": [],
   "source": [
    "data[X_nums].isnull().any().sum() ## 11\n",
    "num_df = data[X_nums]"
   ]
  },
  {
   "cell_type": "code",
   "execution_count": 244,
   "metadata": {},
   "outputs": [
    {
     "data": {
      "text/plain": [
       "GrLivArea        False\n",
       "LotFrontage       True\n",
       "LotArea          False\n",
       "OverallQual      False\n",
       "OverallCond      False\n",
       "YearBuilt        False\n",
       "YearRemodAdd     False\n",
       "MasVnrArea        True\n",
       "BsmtFinSF1        True\n",
       "BsmtFinSF2        True\n",
       "BsmtUnfSF         True\n",
       "TotalBsmtSF       True\n",
       "1stFlrSF         False\n",
       "2ndFlrSF         False\n",
       "LowQualFinSF     False\n",
       "BsmtFullBath      True\n",
       "BsmtHalfBath      True\n",
       "FullBath         False\n",
       "HalfBath         False\n",
       "BedroomAbvGr     False\n",
       "KitchenAbvGr     False\n",
       "TotRmsAbvGrd     False\n",
       "Fireplaces       False\n",
       "GarageYrBlt       True\n",
       "GarageCars        True\n",
       "GarageArea        True\n",
       "WoodDeckSF       False\n",
       "OpenPorchSF      False\n",
       "EnclosedPorch    False\n",
       "3SsnPorch        False\n",
       "ScreenPorch      False\n",
       "PoolArea         False\n",
       "MiscVal          False\n",
       "MoSold           False\n",
       "YrSold           False\n",
       "dtype: bool"
      ]
     },
     "execution_count": 244,
     "metadata": {},
     "output_type": "execute_result"
    }
   ],
   "source": [
    "data[X_nums].isnull().any()"
   ]
  },
  {
   "cell_type": "code",
   "execution_count": 247,
   "metadata": {},
   "outputs": [],
   "source": [
    "num_df[num_df.isna().any(axis=1)]\n",
    "num_df['MasVnrArea'].fillna(0,inplace=True)\n",
    "num_df['BsmtFinSF1'].fillna(0,inplace=True)\n",
    "num_df['BsmtFinSF2'].fillna(0,inplace=True)\n",
    "num_df['BsmtUnfSF'].fillna(0,inplace=True)\n",
    "num_df['TotalBsmtSF'].fillna(0,inplace=True)\n"
   ]
  },
  {
   "cell_type": "code",
   "execution_count": 248,
   "metadata": {},
   "outputs": [
    {
     "data": {
      "text/plain": [
       "457"
      ]
     },
     "execution_count": 248,
     "metadata": {},
     "output_type": "execute_result"
    }
   ],
   "source": [
    "num_df['GarageYrBlt'].isnull().sum() ## 126\n",
    "num_df['LotFrontage'].isnull().sum() ## 457"
   ]
  },
  {
   "cell_type": "code",
   "execution_count": 253,
   "metadata": {},
   "outputs": [
    {
     "data": {
      "text/plain": [
       "-5.265760197775031"
      ]
     },
     "execution_count": 253,
     "metadata": {},
     "output_type": "execute_result"
    }
   ],
   "source": [
    "garage_impute = num_df.groupby(['YearBuilt'])[['GarageYrBlt']].agg(np.median).dropna()\n",
    "garage_impute\n",
    "np.mean(num_df['YearBuilt'].dropna() - num_df['GarageYrBlt'].dropna())"
   ]
  },
  {
   "cell_type": "code",
   "execution_count": 239,
   "metadata": {},
   "outputs": [
    {
     "data": {
      "text/plain": [
       "141.2048649416067"
      ]
     },
     "execution_count": 239,
     "metadata": {},
     "output_type": "execute_result"
    }
   ],
   "source": [
    "lot_impute = num_df.groupby(['YearBuilt'])[['GarageYrBlt']].agg(np.median).dropna()\n",
    "garage_impute\n",
    "\n",
    "\n",
    "np.mean(num_df.LotArea.dropna() / num_df.LotFrontage.dropna())"
   ]
  },
  {
   "cell_type": "code",
   "execution_count": 254,
   "metadata": {},
   "outputs": [
    {
     "data": {
      "text/plain": [
       "0       1939.0\n",
       "1       2004.0\n",
       "2       1940.0\n",
       "3       1984.0\n",
       "4       1957.0\n",
       "         ...  \n",
       "2548    2004.0\n",
       "2549    2006.0\n",
       "2550    1957.0\n",
       "2551    1969.0\n",
       "2552    1978.0\n",
       "Name: GarageYrBlt, Length: 2553, dtype: float64"
      ]
     },
     "execution_count": 254,
     "metadata": {},
     "output_type": "execute_result"
    }
   ],
   "source": [
    "num_df['GarageYrBlt'].fillna(num_df['YearBuilt']-5)"
   ]
  },
  {
   "cell_type": "code",
   "execution_count": 263,
   "metadata": {},
   "outputs": [
    {
     "data": {
      "text/plain": [
       "20     NaN\n",
       "34     NaN\n",
       "38     NaN\n",
       "44     NaN\n",
       "51     NaN\n",
       "        ..\n",
       "2385   NaN\n",
       "2398   NaN\n",
       "2472   NaN\n",
       "2535   NaN\n",
       "2550   NaN\n",
       "Name: GarageYrBlt, Length: 126, dtype: float64"
      ]
     },
     "execution_count": 263,
     "metadata": {},
     "output_type": "execute_result"
    }
   ],
   "source": [
    "num_df.GarageYrBlt[num_df.GarageYrBlt.isnull()]\n"
   ]
  },
  {
   "cell_type": "code",
   "execution_count": null,
   "metadata": {},
   "outputs": [],
   "source": []
  }
 ],
 "metadata": {
  "kernelspec": {
   "display_name": "Python 3",
   "language": "python",
   "name": "python3"
  },
  "language_info": {
   "codemirror_mode": {
    "name": "ipython",
    "version": 3
   },
   "file_extension": ".py",
   "mimetype": "text/x-python",
   "name": "python",
   "nbconvert_exporter": "python",
   "pygments_lexer": "ipython3",
   "version": "3.8.5"
  }
 },
 "nbformat": 4,
 "nbformat_minor": 4
}
