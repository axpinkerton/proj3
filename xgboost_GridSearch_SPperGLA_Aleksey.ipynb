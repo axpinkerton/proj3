{
 "cells": [
  {
   "cell_type": "code",
   "execution_count": 39,
   "metadata": {},
   "outputs": [],
   "source": [
    "import numpy as np\n",
    "import sys\n",
    "import pandas as pd\n",
    "import matplotlib\n",
    "from matplotlib import pyplot as plt\n",
    "import seaborn as sns\n",
    "\n",
    "%matplotlib inline "
   ]
  },
  {
   "cell_type": "code",
   "execution_count": 40,
   "metadata": {},
   "outputs": [],
   "source": [
    "import sklearn\n",
    "import sklearn.ensemble\n",
    "import sklearn.feature_selection\n",
    "import sklearn.linear_model\n",
    "import sklearn.model_selection\n",
    "import sklearn.tree\n",
    "import sklearn.utils\n",
    "\n",
    "from sklearn.linear_model import LogisticRegression\n",
    "from sklearn.preprocessing import OneHotEncoder\n",
    "from sklearn.compose import make_column_transformer\n",
    "from sklearn.model_selection import train_test_split\n",
    "\n",
    "from sklearn.linear_model import LinearRegression, Ridge, Lasso, ElasticNet\n",
    "from sklearn.model_selection import GridSearchCV\n"
   ]
  },
  {
   "cell_type": "code",
   "execution_count": 41,
   "metadata": {},
   "outputs": [],
   "source": [
    "from collections import OrderedDict\n",
    "import xgboost as xgb"
   ]
  },
  {
   "cell_type": "code",
   "execution_count": 42,
   "metadata": {},
   "outputs": [
    {
     "name": "stdout",
     "output_type": "stream",
     "text": [
      "(2552, 81)\n"
     ]
    }
   ],
   "source": [
    "df = pd.read_csv('./data/all_data_CLEAN.csv', index_col=0)\n",
    "\n",
    "print(df.shape)\n",
    "#df.head()\n",
    "\n",
    "data = df.copy()\n",
    "\n",
    "data['MSSubClass'] = data['MSSubClass'].astype(str)\n",
    "# data['OverallQual'] = data['OverallQual'].astype(str)\n",
    "# data['OverallCond'] = data['OverallCond'].astype(str)"
   ]
  },
  {
   "cell_type": "code",
   "execution_count": 43,
   "metadata": {},
   "outputs": [],
   "source": [
    "ord_colnames = ['LotShape', 'LandSlope', 'OverallQual', 'OverallCond',\n",
    "                'ExterQual', 'ExterCond', 'BsmtQual', 'BsmtCond',\n",
    "                'BsmtExposure', 'BsmtFinType1', 'BsmtFinType2', 'HeatingQC',\n",
    "                'KitchenQual', 'Functional', 'FireplaceQu', 'GarageFinish',\n",
    "                'GarageQual', 'GarageCond', 'PoolQC', 'Fence']\n",
    "ord_dict = {}\n",
    "ord_dict['LotShape'] = ['IR3', 'IR2', 'IR1', 'Reg']\n",
    "ord_dict['LandSlope'] = ['Sev', 'Mod', 'Gtl']\n",
    "ord_dict['OverallQual'] = [np.nan, 1,2,3,4,5,6,7,8,9,10]\n",
    "ord_dict['OverallCond'] = [np.nan, 1,2,3,4,5,6,7,8,9,10]\n",
    "ord_dict['ExterQual'] = [np.nan,'Po', 'Fa','TA', 'Gd', 'Ex']\n",
    "ord_dict['ExterCond'] = [np.nan, 'Po', 'Fa','TA', 'Gd', 'Ex']\n",
    "ord_dict['BsmtQual'] = ['NoneListed', 'Po', 'Fa','TA', 'Gd', 'Ex']\n",
    "ord_dict['BsmtCond'] = ['NoneListed', 'Po', 'Fa','TA', 'Gd', 'Ex']\n",
    "ord_dict['BsmtExposure'] = ['NoneListed', 'No', 'Mn', 'Av', 'Gd']\n",
    "ord_dict['BsmtFinType1'] = ['NoneListed', 'Unf', 'LwQ', 'Rec', 'BLQ', 'ALQ', 'GLQ']\n",
    "ord_dict['BsmtFinType2'] = ['NoneListed', 'Unf', 'LwQ', 'Rec', 'BLQ', 'ALQ', 'GLQ']\n",
    "ord_dict['HeatingQC'] = [np.nan, 'Po', 'Fa','TA', 'Gd', 'Ex']\n",
    "ord_dict['KitchenQual'] = [np.nan, 'Po', 'Fa','TA', 'Gd', 'Ex']\n",
    "ord_dict['Functional'] = ['Sal', 'Sev', 'Maj2', 'Maj1', 'Mod', 'Min2', 'Min1', 'Typ']\n",
    "ord_dict['FireplaceQu'] = ['NoneListed', 'Po', 'Fa','TA', 'Gd', 'Ex']\n",
    "ord_dict['GarageFinish'] = ['NoneListed', 'Unf', 'RFn', 'Fin']\n",
    "ord_dict['GarageQual'] = ['NoneListed', 'Po', 'Fa','TA', 'Gd', 'Ex']\n",
    "ord_dict['GarageCond'] = ['NoneListed', 'Po', 'Fa','TA', 'Gd', 'Ex']\n",
    "ord_dict['PoolQC'] = ['NoneListed', 'Po', 'Fa','TA', 'Gd', 'Ex']\n",
    "ord_dict['Fence'] = ['NoneListed', 'MnWw', 'GdWo', 'MnPrv', 'GdPrv']"
   ]
  },
  {
   "cell_type": "code",
   "execution_count": 44,
   "metadata": {},
   "outputs": [],
   "source": [
    "# Trasforms Labels to Numbers\n",
    "for i in range(len(ord_colnames)):\n",
    "    data[ord_colnames[i]] = data[ord_colnames[i]].apply(lambda x: ord_dict[ord_colnames[i]].index(x))\n",
    "\n",
    "# Trasforms Numbers back to Labels\n",
    "# for i in range(len(ord_colnames)):\n",
    "#     ames_housing_X[ord_colnames[i]] = ames_housing_X[ord_colnames[i]].apply(lambda x: ord_dict[ord_colnames[i]][x])"
   ]
  },
  {
   "cell_type": "code",
   "execution_count": 45,
   "metadata": {},
   "outputs": [],
   "source": [
    "nums = ['PID', 'SalePrice','SalePricePerGLA','GrLivArea','LotFrontage', 'LotArea', \n",
    "          'YearBuilt', 'YearRemodAdd','MasVnrArea', 'BsmtFinSF1', 'BsmtFinSF2', \n",
    "          'BsmtUnfSF', 'TotalBsmtSF','1stFlrSF','2ndFlrSF', 'LowQualFinSF', \n",
    "          'BsmtFullBath', 'BsmtHalfBath', 'FullBath','HalfBath', 'BedroomAbvGr', \n",
    "          'KitchenAbvGr','TotRmsAbvGrd', 'Fireplaces','GarageYrBlt', 'GarageCars', \n",
    "          'GarageArea', 'WoodDeckSF', 'OpenPorchSF','EnclosedPorch', '3SsnPorch', \n",
    "          'ScreenPorch', 'PoolArea', 'MiscVal' , 'MoSold', 'YrSold']\n"
   ]
  },
  {
   "cell_type": "code",
   "execution_count": 46,
   "metadata": {},
   "outputs": [
    {
     "name": "stdout",
     "output_type": "stream",
     "text": [
      "Nums len:  36 \n",
      "Ords len:  20 \n",
      "Cats len:  25 \n",
      "OG shape:  81\n"
     ]
    }
   ],
   "source": [
    "cats_ords = list(set(data.columns) - set(data[nums].columns))\n",
    "\n",
    "cats = list(set(data[cats_ords].columns) - set(data[ord_colnames].columns))\n",
    "print(\"Nums len: \", len(nums),\n",
    "      \"\\nOrds len: \", len(ord_colnames),\n",
    "      \"\\nCats len: \", len(cats),\n",
    "      \"\\nOG shape: \", len(df.columns))\n",
    "enc_cats_df = pd.get_dummies(data[cats],drop_first=True)\n",
    "\n",
    "nums_df = data[nums]\n",
    "\n",
    "ords_df = data[ord_colnames]\n",
    "\n",
    "#enc_cats_df.head(5)\n"
   ]
  },
  {
   "cell_type": "code",
   "execution_count": 47,
   "metadata": {},
   "outputs": [
    {
     "name": "stdout",
     "output_type": "stream",
     "text": [
      "nums:  (2552, 36)\n",
      "ords:  (2552, 20)\n",
      "nums_ords:  (2552, 56)\n",
      "enc_cats:  (2552, 163)\n",
      "full_df:  (2552, 219)\n"
     ]
    }
   ],
   "source": [
    "print(\"nums: \", nums_df.shape)\n",
    "print(\"ords: \", ords_df.shape)\n",
    "nums_ords = nums_df.join(ords_df)\n",
    "print(\"nums_ords: \", nums_ords.shape)\n",
    "#nums_ords.head()\n",
    "print(\"enc_cats: \", enc_cats_df.shape)\n",
    "full_df = nums_ords.join(enc_cats_df)\n",
    "print(\"full_df: \", full_df.shape)"
   ]
  },
  {
   "cell_type": "code",
   "execution_count": 48,
   "metadata": {},
   "outputs": [
    {
     "name": "stdout",
     "output_type": "stream",
     "text": [
      "With SP, GLA, and SPPGLA:  (2552, 219)\n",
      "Without SP, GLA, or SPPGLA:  (2552, 216)\n",
      "SP shape:  (2552,)\n",
      "SP shape:  (2552,)\n"
     ]
    }
   ],
   "source": [
    "y_SP = full_df['SalePrice']\n",
    "y_SPPGLA = full_df['SalePricePerGLA']\n",
    "X_GLA = full_df['GrLivArea']\n",
    "\n",
    "print(\"With SP, GLA, and SPPGLA: \", full_df.shape)\n",
    "\n",
    "\n",
    "full_df.drop(['SalePrice'], axis=1, inplace=True)\n",
    "full_df.drop(['SalePricePerGLA'], axis=1, inplace=True)\n",
    "full_df.drop(['GrLivArea'], axis=1, inplace=True)\n",
    "\n",
    "print(\"Without SP, GLA, or SPPGLA: \", full_df.shape)\n",
    "\n",
    "# Test data set sizes\n",
    "print(\"SP shape: \",y_SP.shape)\n",
    "print(\"SP shape: \",y_SPPGLA.shape)"
   ]
  },
  {
   "cell_type": "code",
   "execution_count": 49,
   "metadata": {},
   "outputs": [],
   "source": [
    "from sklearn.metrics import mean_squared_error\n",
    "\n",
    "xgbr_1 = xgb.XGBRegressor(objective='reg:squarederror')"
   ]
  },
  {
   "cell_type": "code",
   "execution_count": 50,
   "metadata": {},
   "outputs": [
    {
     "name": "stderr",
     "output_type": "stream",
     "text": [
      "C:\\Users\\pengu\\Anaconda3\\lib\\site-packages\\sklearn\\model_selection\\_split.py:2053: FutureWarning: You should specify a value for 'cv' instead of relying on the default value. The default value will change from 3 to 5 in version 0.22.\n",
      "  warnings.warn(CV_WARNING, FutureWarning)\n",
      "[Parallel(n_jobs=6)]: Using backend LokyBackend with 6 concurrent workers.\n"
     ]
    },
    {
     "name": "stdout",
     "output_type": "stream",
     "text": [
      "Fitting 3 folds for each of 81 candidates, totalling 243 fits\n"
     ]
    },
    {
     "name": "stderr",
     "output_type": "stream",
     "text": [
      "[Parallel(n_jobs=6)]: Done   1 tasks      | elapsed:    1.4s\n",
      "[Parallel(n_jobs=6)]: Done   6 tasks      | elapsed:    2.6s\n",
      "[Parallel(n_jobs=6)]: Done  13 tasks      | elapsed:    4.7s\n",
      "[Parallel(n_jobs=6)]: Done  20 tasks      | elapsed:    7.3s\n",
      "[Parallel(n_jobs=6)]: Done  29 tasks      | elapsed:    9.6s\n",
      "[Parallel(n_jobs=6)]: Done  38 tasks      | elapsed:   12.5s\n",
      "[Parallel(n_jobs=6)]: Done  49 tasks      | elapsed:   16.5s\n",
      "[Parallel(n_jobs=6)]: Done  60 tasks      | elapsed:   20.8s\n",
      "[Parallel(n_jobs=6)]: Done  73 tasks      | elapsed:   24.8s\n",
      "[Parallel(n_jobs=6)]: Done  86 tasks      | elapsed:   29.3s\n",
      "[Parallel(n_jobs=6)]: Done 101 tasks      | elapsed:   35.8s\n",
      "[Parallel(n_jobs=6)]: Done 116 tasks      | elapsed:   43.0s\n",
      "[Parallel(n_jobs=6)]: Done 133 tasks      | elapsed:   50.3s\n",
      "[Parallel(n_jobs=6)]: Done 150 tasks      | elapsed:   59.4s\n",
      "[Parallel(n_jobs=6)]: Done 169 tasks      | elapsed:  1.2min\n",
      "[Parallel(n_jobs=6)]: Done 188 tasks      | elapsed:  1.3min\n",
      "[Parallel(n_jobs=6)]: Done 209 tasks      | elapsed:  1.5min\n",
      "[Parallel(n_jobs=6)]: Done 230 tasks      | elapsed:  1.8min\n",
      "[Parallel(n_jobs=6)]: Done 243 out of 243 | elapsed:  1.9min finished\n",
      "C:\\Users\\pengu\\Anaconda3\\lib\\site-packages\\sklearn\\model_selection\\_search.py:841: DeprecationWarning: The default of the `iid` parameter will change from True to False in version 0.22 and will be removed in 0.24. This will change numeric results when test-set sizes are unequal.\n",
      "  DeprecationWarning)\n",
      "C:\\Users\\pengu\\Anaconda3\\lib\\site-packages\\xgboost\\core.py:587: FutureWarning: Series.base is deprecated and will be removed in a future version\n",
      "  if getattr(data, 'base', None) is not None and \\\n",
      "C:\\Users\\pengu\\Anaconda3\\lib\\site-packages\\xgboost\\core.py:588: FutureWarning: Series.base is deprecated and will be removed in a future version\n",
      "  data.base is not None and isinstance(data, np.ndarray) \\\n"
     ]
    },
    {
     "data": {
      "text/plain": [
       "GridSearchCV(cv='warn', error_score='raise-deprecating',\n",
       "       estimator=XGBRegressor(base_score=0.5, booster='gbtree', colsample_bylevel=1,\n",
       "       colsample_bynode=1, colsample_bytree=1, gamma=0,\n",
       "       importance_type='gain', learning_rate=0.1, max_delta_step=0,\n",
       "       max_depth=3, min_child_weight=1, missing=None, n_estimators=100,\n",
       "       n_jobs=1, nthread=None, objective='reg:squarederror',\n",
       "       random_state=0, reg_alpha=0, reg_lambda=1, scale_pos_weight=1,\n",
       "       seed=None, silent=None, subsample=1, verbosity=1),\n",
       "       fit_params=None, iid='warn', n_jobs=6,\n",
       "       param_grid={'max_depth': [3, 4, 5], 'n_estimators': [100, 500, 1000], 'learning_rate': [0.01, 0.05, 0.1], 'colsample_bytree': [0.5, 0.75, 1]},\n",
       "       pre_dispatch='2*n_jobs', refit=True, return_train_score='warn',\n",
       "       scoring='neg_mean_squared_error', verbose=10)"
      ]
     },
     "execution_count": 50,
     "metadata": {},
     "output_type": "execute_result"
    }
   ],
   "source": [
    "# GridSearch tuning\n",
    "params_1 = {\n",
    "    'max_depth': [3, 4, 5],\n",
    "    'n_estimators': [100, 500, 1000],\n",
    "    'learning_rate': [0.01, 0.05, 0.1],\n",
    "    'colsample_bytree': [0.5, 0.75, 1]\n",
    "#    'subsample': [0.4, 0.8, 1]\n",
    "}\n",
    "\n",
    "gscv_1 = GridSearchCV(estimator = xgbr_1,\n",
    "                      param_grid = params_1,\n",
    "                      scoring = 'neg_mean_squared_error',\n",
    "                      n_jobs=6, \n",
    "                      verbose=10\n",
    "                  )\n",
    "\n",
    "gscv_1.fit(full_df, y_SPPGLA)\n"
   ]
  },
  {
   "cell_type": "code",
   "execution_count": 51,
   "metadata": {},
   "outputs": [
    {
     "name": "stdout",
     "output_type": "stream",
     "text": [
      "Best parameters:  {'colsample_bytree': 0.5, 'learning_rate': 0.05, 'max_depth': 4, 'n_estimators': 1000}\n",
      "Lowest RMSE:  12.282375381607208\n"
     ]
    }
   ],
   "source": [
    "print(\"Best parameters: \", gscv_1.best_params_)\n",
    "print(\"Lowest RMSE: \", (-gscv_1.best_score_)**(1/2.0))\n"
   ]
  },
  {
   "cell_type": "code",
   "execution_count": 52,
   "metadata": {},
   "outputs": [],
   "source": [
    "# using the best params found via GSCV_1\n",
    "best_xgbr_1 = xgb.XGBRegressor(colsample_bytree = 0.5,\n",
    "                              learning_rate = 0.05,\n",
    "                              max_depth = 4,\n",
    "                              n_estimators = 1000)\n",
    "# best_xgbr_1.fit(X_train, y_train)\n",
    "\n",
    "# best_preds_1 = best_xgbr_1.predict(X_test)"
   ]
  },
  {
   "cell_type": "code",
   "execution_count": 53,
   "metadata": {},
   "outputs": [
    {
     "name": "stdout",
     "output_type": "stream",
     "text": [
      "[14:19:47] WARNING: src/objective/regression_obj.cu:152: reg:linear is now deprecated in favor of reg:squarederror.\n"
     ]
    },
    {
     "name": "stderr",
     "output_type": "stream",
     "text": [
      "C:\\Users\\pengu\\Anaconda3\\lib\\site-packages\\xgboost\\core.py:587: FutureWarning: Series.base is deprecated and will be removed in a future version\n",
      "  if getattr(data, 'base', None) is not None and \\\n"
     ]
    },
    {
     "name": "stdout",
     "output_type": "stream",
     "text": [
      "[14:19:51] WARNING: src/objective/regression_obj.cu:152: reg:linear is now deprecated in favor of reg:squarederror.\n"
     ]
    },
    {
     "name": "stderr",
     "output_type": "stream",
     "text": [
      "C:\\Users\\pengu\\Anaconda3\\lib\\site-packages\\xgboost\\core.py:587: FutureWarning: Series.base is deprecated and will be removed in a future version\n",
      "  if getattr(data, 'base', None) is not None and \\\n"
     ]
    },
    {
     "name": "stdout",
     "output_type": "stream",
     "text": [
      "[14:19:55] WARNING: src/objective/regression_obj.cu:152: reg:linear is now deprecated in favor of reg:squarederror.\n"
     ]
    },
    {
     "name": "stderr",
     "output_type": "stream",
     "text": [
      "C:\\Users\\pengu\\Anaconda3\\lib\\site-packages\\xgboost\\core.py:587: FutureWarning: Series.base is deprecated and will be removed in a future version\n",
      "  if getattr(data, 'base', None) is not None and \\\n"
     ]
    },
    {
     "name": "stdout",
     "output_type": "stream",
     "text": [
      "[14:19:58] WARNING: src/objective/regression_obj.cu:152: reg:linear is now deprecated in favor of reg:squarederror.\n"
     ]
    },
    {
     "name": "stderr",
     "output_type": "stream",
     "text": [
      "C:\\Users\\pengu\\Anaconda3\\lib\\site-packages\\xgboost\\core.py:587: FutureWarning: Series.base is deprecated and will be removed in a future version\n",
      "  if getattr(data, 'base', None) is not None and \\\n"
     ]
    },
    {
     "name": "stdout",
     "output_type": "stream",
     "text": [
      "[14:20:02] WARNING: src/objective/regression_obj.cu:152: reg:linear is now deprecated in favor of reg:squarederror.\n",
      "Mean cross-validation score: 0.84013\n"
     ]
    }
   ],
   "source": [
    "### attempting cross validation, 5-fold\n",
    "from sklearn.model_selection import KFold\n",
    "from sklearn.model_selection import cross_val_score\n",
    "\n",
    "kfold = KFold(n_splits=5, shuffle=True)\n",
    "\n",
    "scores = cross_val_score(best_xgbr_1, full_df, y_SPPGLA, cv=kfold)\n",
    "print(\"Mean cross-validation score: %.5f\" % scores.mean())"
   ]
  },
  {
   "cell_type": "code",
   "execution_count": 54,
   "metadata": {},
   "outputs": [
    {
     "name": "stderr",
     "output_type": "stream",
     "text": [
      "C:\\Users\\pengu\\Anaconda3\\lib\\site-packages\\sklearn\\model_selection\\_split.py:2053: FutureWarning: You should specify a value for 'cv' instead of relying on the default value. The default value will change from 3 to 5 in version 0.22.\n",
      "  warnings.warn(CV_WARNING, FutureWarning)\n",
      "[Parallel(n_jobs=6)]: Using backend LokyBackend with 6 concurrent workers.\n"
     ]
    },
    {
     "name": "stdout",
     "output_type": "stream",
     "text": [
      "Fitting 3 folds for each of 1296 candidates, totalling 3888 fits\n"
     ]
    },
    {
     "name": "stderr",
     "output_type": "stream",
     "text": [
      "[Parallel(n_jobs=6)]: Done   1 tasks      | elapsed:    0.2s\n",
      "[Parallel(n_jobs=6)]: Done   6 tasks      | elapsed:    0.3s\n",
      "[Parallel(n_jobs=6)]: Done  13 tasks      | elapsed:    2.0s\n",
      "[Parallel(n_jobs=6)]: Done  20 tasks      | elapsed:    5.2s\n",
      "[Parallel(n_jobs=6)]: Done  29 tasks      | elapsed:    7.3s\n",
      "[Parallel(n_jobs=6)]: Done  38 tasks      | elapsed:   10.0s\n",
      "[Parallel(n_jobs=6)]: Done  49 tasks      | elapsed:   16.8s\n",
      "[Parallel(n_jobs=6)]: Done  60 tasks      | elapsed:   18.8s\n",
      "[Parallel(n_jobs=6)]: Done  73 tasks      | elapsed:   29.0s\n",
      "[Parallel(n_jobs=6)]: Done  86 tasks      | elapsed:   32.5s\n",
      "[Parallel(n_jobs=6)]: Done 101 tasks      | elapsed:   38.7s\n",
      "[Parallel(n_jobs=6)]: Done 116 tasks      | elapsed:   41.6s\n",
      "[Parallel(n_jobs=6)]: Done 133 tasks      | elapsed:   50.9s\n",
      "[Parallel(n_jobs=6)]: Done 150 tasks      | elapsed:   56.4s\n",
      "[Parallel(n_jobs=6)]: Done 169 tasks      | elapsed:  1.1min\n",
      "[Parallel(n_jobs=6)]: Done 188 tasks      | elapsed:  1.2min\n",
      "[Parallel(n_jobs=6)]: Done 209 tasks      | elapsed:  1.4min\n",
      "[Parallel(n_jobs=6)]: Done 230 tasks      | elapsed:  1.5min\n",
      "[Parallel(n_jobs=6)]: Done 253 tasks      | elapsed:  1.7min\n",
      "[Parallel(n_jobs=6)]: Done 276 tasks      | elapsed:  1.8min\n",
      "[Parallel(n_jobs=6)]: Done 301 tasks      | elapsed:  2.0min\n",
      "[Parallel(n_jobs=6)]: Done 326 tasks      | elapsed:  2.2min\n",
      "[Parallel(n_jobs=6)]: Done 353 tasks      | elapsed:  2.4min\n",
      "[Parallel(n_jobs=6)]: Done 380 tasks      | elapsed:  2.6min\n",
      "[Parallel(n_jobs=6)]: Done 409 tasks      | elapsed:  2.8min\n",
      "[Parallel(n_jobs=6)]: Done 438 tasks      | elapsed:  2.9min\n",
      "[Parallel(n_jobs=6)]: Done 469 tasks      | elapsed:  3.2min\n",
      "[Parallel(n_jobs=6)]: Done 500 tasks      | elapsed:  3.4min\n",
      "[Parallel(n_jobs=6)]: Done 533 tasks      | elapsed:  3.6min\n",
      "[Parallel(n_jobs=6)]: Done 566 tasks      | elapsed:  3.9min\n",
      "[Parallel(n_jobs=6)]: Done 601 tasks      | elapsed:  4.1min\n",
      "[Parallel(n_jobs=6)]: Done 636 tasks      | elapsed:  4.3min\n",
      "[Parallel(n_jobs=6)]: Done 673 tasks      | elapsed:  4.6min\n",
      "[Parallel(n_jobs=6)]: Done 710 tasks      | elapsed:  4.8min\n",
      "[Parallel(n_jobs=6)]: Done 749 tasks      | elapsed:  5.2min\n",
      "[Parallel(n_jobs=6)]: Done 788 tasks      | elapsed:  5.4min\n",
      "[Parallel(n_jobs=6)]: Done 829 tasks      | elapsed:  5.7min\n",
      "[Parallel(n_jobs=6)]: Done 870 tasks      | elapsed:  6.0min\n",
      "[Parallel(n_jobs=6)]: Done 913 tasks      | elapsed:  6.3min\n",
      "[Parallel(n_jobs=6)]: Done 956 tasks      | elapsed:  6.6min\n",
      "[Parallel(n_jobs=6)]: Done 1001 tasks      | elapsed:  6.9min\n",
      "[Parallel(n_jobs=6)]: Done 1046 tasks      | elapsed:  7.3min\n",
      "[Parallel(n_jobs=6)]: Done 1093 tasks      | elapsed:  7.5min\n",
      "[Parallel(n_jobs=6)]: Done 1140 tasks      | elapsed:  7.9min\n",
      "[Parallel(n_jobs=6)]: Done 1189 tasks      | elapsed:  8.2min\n",
      "[Parallel(n_jobs=6)]: Done 1238 tasks      | elapsed:  8.6min\n",
      "[Parallel(n_jobs=6)]: Done 1289 tasks      | elapsed:  9.0min\n",
      "[Parallel(n_jobs=6)]: Done 1340 tasks      | elapsed:  9.3min\n",
      "[Parallel(n_jobs=6)]: Done 1393 tasks      | elapsed:  9.9min\n",
      "[Parallel(n_jobs=6)]: Done 1446 tasks      | elapsed: 10.4min\n",
      "[Parallel(n_jobs=6)]: Done 1501 tasks      | elapsed: 10.9min\n",
      "[Parallel(n_jobs=6)]: Done 1556 tasks      | elapsed: 11.5min\n",
      "[Parallel(n_jobs=6)]: Done 1613 tasks      | elapsed: 12.1min\n",
      "[Parallel(n_jobs=6)]: Done 1670 tasks      | elapsed: 12.6min\n",
      "[Parallel(n_jobs=6)]: Done 1729 tasks      | elapsed: 13.1min\n",
      "[Parallel(n_jobs=6)]: Done 1788 tasks      | elapsed: 13.7min\n",
      "[Parallel(n_jobs=6)]: Done 1849 tasks      | elapsed: 14.3min\n",
      "[Parallel(n_jobs=6)]: Done 1910 tasks      | elapsed: 14.9min\n",
      "[Parallel(n_jobs=6)]: Done 1973 tasks      | elapsed: 15.5min\n",
      "[Parallel(n_jobs=6)]: Done 2036 tasks      | elapsed: 16.1min\n",
      "[Parallel(n_jobs=6)]: Done 2101 tasks      | elapsed: 16.8min\n",
      "[Parallel(n_jobs=6)]: Done 2166 tasks      | elapsed: 17.3min\n",
      "[Parallel(n_jobs=6)]: Done 2233 tasks      | elapsed: 18.0min\n",
      "[Parallel(n_jobs=6)]: Done 2300 tasks      | elapsed: 18.6min\n",
      "[Parallel(n_jobs=6)]: Done 2369 tasks      | elapsed: 19.3min\n",
      "[Parallel(n_jobs=6)]: Done 2438 tasks      | elapsed: 20.0min\n",
      "[Parallel(n_jobs=6)]: Done 2509 tasks      | elapsed: 20.7min\n",
      "[Parallel(n_jobs=6)]: Done 2580 tasks      | elapsed: 21.3min\n",
      "[Parallel(n_jobs=6)]: Done 2653 tasks      | elapsed: 22.1min\n",
      "[Parallel(n_jobs=6)]: Done 2726 tasks      | elapsed: 23.0min\n",
      "[Parallel(n_jobs=6)]: Done 2801 tasks      | elapsed: 24.0min\n",
      "[Parallel(n_jobs=6)]: Done 2876 tasks      | elapsed: 24.8min\n",
      "[Parallel(n_jobs=6)]: Done 2953 tasks      | elapsed: 25.8min\n",
      "[Parallel(n_jobs=6)]: Done 3030 tasks      | elapsed: 26.7min\n",
      "[Parallel(n_jobs=6)]: Done 3109 tasks      | elapsed: 27.7min\n",
      "[Parallel(n_jobs=6)]: Done 3188 tasks      | elapsed: 28.7min\n",
      "[Parallel(n_jobs=6)]: Done 3269 tasks      | elapsed: 29.7min\n",
      "[Parallel(n_jobs=6)]: Done 3350 tasks      | elapsed: 30.7min\n",
      "[Parallel(n_jobs=6)]: Done 3433 tasks      | elapsed: 31.7min\n",
      "[Parallel(n_jobs=6)]: Done 3516 tasks      | elapsed: 32.7min\n",
      "[Parallel(n_jobs=6)]: Done 3601 tasks      | elapsed: 33.8min\n",
      "[Parallel(n_jobs=6)]: Done 3686 tasks      | elapsed: 34.8min\n",
      "[Parallel(n_jobs=6)]: Done 3773 tasks      | elapsed: 35.9min\n",
      "[Parallel(n_jobs=6)]: Done 3860 tasks      | elapsed: 37.0min\n",
      "[Parallel(n_jobs=6)]: Done 3888 out of 3888 | elapsed: 37.5min finished\n",
      "C:\\Users\\pengu\\Anaconda3\\lib\\site-packages\\sklearn\\model_selection\\_search.py:841: DeprecationWarning: The default of the `iid` parameter will change from True to False in version 0.22 and will be removed in 0.24. This will change numeric results when test-set sizes are unequal.\n",
      "  DeprecationWarning)\n",
      "C:\\Users\\pengu\\Anaconda3\\lib\\site-packages\\xgboost\\core.py:587: FutureWarning: Series.base is deprecated and will be removed in a future version\n",
      "  if getattr(data, 'base', None) is not None and \\\n",
      "C:\\Users\\pengu\\Anaconda3\\lib\\site-packages\\xgboost\\core.py:588: FutureWarning: Series.base is deprecated and will be removed in a future version\n",
      "  data.base is not None and isinstance(data, np.ndarray) \\\n"
     ]
    },
    {
     "data": {
      "text/plain": [
       "GridSearchCV(cv='warn', error_score='raise-deprecating',\n",
       "       estimator=XGBRegressor(base_score=0.5, booster='gbtree', colsample_bylevel=1,\n",
       "       colsample_bynode=1, colsample_bytree=1, gamma=0,\n",
       "       importance_type='gain', learning_rate=0.1, max_delta_step=0,\n",
       "       max_depth=3, min_child_weight=1, missing=None, n_estimators=100,\n",
       "       n_jobs=1, nthread=None, objective='reg:squarederror',\n",
       "       random_state=0, reg_alpha=0, reg_lambda=1, scale_pos_weight=1,\n",
       "       seed=None, silent=None, subsample=1, verbosity=1),\n",
       "       fit_params=None, iid='warn', n_jobs=6,\n",
       "       param_grid={'max_depth': [3, 5, 7], 'n_estimators': [100, 500, 1000], 'learning_rate': [0.01, 0.05, 0.1, 0.2], 'colsample_bytree': [0.5, 0.75, 1], 'gamma': [0.5, 1, 1.5, 2], 'subsample': [0.4, 0.8, 1]},\n",
       "       pre_dispatch='2*n_jobs', refit=True, return_train_score='warn',\n",
       "       scoring='neg_mean_squared_error', verbose=10)"
      ]
     },
     "execution_count": 54,
     "metadata": {},
     "output_type": "execute_result"
    }
   ],
   "source": [
    "# GridSearch tuning part 2\n",
    "params_2 = {\n",
    "    'max_depth': [3, 5, 7],\n",
    "    'n_estimators': [100, 500, 1000],\n",
    "    'learning_rate': [0.01, 0.05, 0.1, 0.2],\n",
    "    'colsample_bytree': [0.5, 0.75, 1],\n",
    "    'gamma': [0.5, 1, 1.5, 2],\n",
    "    'subsample': [0.4, 0.8, 1]\n",
    "}\n",
    "\n",
    "gscv_2 = GridSearchCV(estimator = xgbr_1,\n",
    "                      param_grid = params_2,\n",
    "                      scoring = 'neg_mean_squared_error',\n",
    "                      n_jobs=6, \n",
    "                      verbose=10\n",
    "                  )\n",
    "\n",
    "gscv_2.fit(full_df, y_SPPGLA)"
   ]
  },
  {
   "cell_type": "code",
   "execution_count": 55,
   "metadata": {},
   "outputs": [
    {
     "name": "stdout",
     "output_type": "stream",
     "text": [
      "Best parameters:  {'colsample_bytree': 1, 'gamma': 0.5, 'learning_rate': 0.05, 'max_depth': 3, 'n_estimators': 1000, 'subsample': 0.4}\n",
      "Lowest RMSE:  12.006054834056126\n"
     ]
    }
   ],
   "source": [
    "print(\"Best parameters: \", gscv_2.best_params_)\n",
    "print(\"Lowest RMSE: \", (-gscv_2.best_score_)**(1/2.0))"
   ]
  },
  {
   "cell_type": "code",
   "execution_count": 65,
   "metadata": {},
   "outputs": [],
   "source": [
    "best_xgbr_2 = xgb.XGBRegressor(objective='reg:squarederror',\n",
    "                               colsample_bytree = 0.1,\n",
    "                               gamma = 0.5,\n",
    "                              learning_rate = 0.05,\n",
    "                              max_depth = 3,\n",
    "                              n_estimators = 1000,\n",
    "                              subsample = 0.4)"
   ]
  },
  {
   "cell_type": "code",
   "execution_count": 57,
   "metadata": {},
   "outputs": [
    {
     "name": "stderr",
     "output_type": "stream",
     "text": [
      "C:\\Users\\pengu\\Anaconda3\\lib\\site-packages\\xgboost\\core.py:587: FutureWarning: Series.base is deprecated and will be removed in a future version\n",
      "  if getattr(data, 'base', None) is not None and \\\n",
      "C:\\Users\\pengu\\Anaconda3\\lib\\site-packages\\xgboost\\core.py:587: FutureWarning: Series.base is deprecated and will be removed in a future version\n",
      "  if getattr(data, 'base', None) is not None and \\\n",
      "C:\\Users\\pengu\\Anaconda3\\lib\\site-packages\\xgboost\\core.py:587: FutureWarning: Series.base is deprecated and will be removed in a future version\n",
      "  if getattr(data, 'base', None) is not None and \\\n",
      "C:\\Users\\pengu\\Anaconda3\\lib\\site-packages\\xgboost\\core.py:587: FutureWarning: Series.base is deprecated and will be removed in a future version\n",
      "  if getattr(data, 'base', None) is not None and \\\n"
     ]
    },
    {
     "name": "stdout",
     "output_type": "stream",
     "text": [
      "Mean cross-validation score: 0.83624\n"
     ]
    }
   ],
   "source": [
    "kfold = KFold(n_splits=5, shuffle=True)\n",
    "\n",
    "scores = cross_val_score(best_xgbr_2, full_df, y_SPPGLA, cv=kfold)\n",
    "print(\"Mean cross-validation score: %.5f\" % scores.mean())"
   ]
  },
  {
   "cell_type": "code",
   "execution_count": 60,
   "metadata": {
    "scrolled": true
   },
   "outputs": [
    {
     "name": "stdout",
     "output_type": "stream",
     "text": [
      "Fitting 10 folds for each of 243 candidates, totalling 2430 fits\n"
     ]
    },
    {
     "name": "stderr",
     "output_type": "stream",
     "text": [
      "[Parallel(n_jobs=6)]: Using backend LokyBackend with 6 concurrent workers.\n",
      "[Parallel(n_jobs=6)]: Done   1 tasks      | elapsed:    5.8s\n",
      "[Parallel(n_jobs=6)]: Done   6 tasks      | elapsed:    6.0s\n",
      "[Parallel(n_jobs=6)]: Done  13 tasks      | elapsed:   15.2s\n",
      "[Parallel(n_jobs=6)]: Done  20 tasks      | elapsed:   20.0s\n",
      "[Parallel(n_jobs=6)]: Done  29 tasks      | elapsed:   25.0s\n",
      "[Parallel(n_jobs=6)]: Done  38 tasks      | elapsed:   34.4s\n",
      "[Parallel(n_jobs=6)]: Done  49 tasks      | elapsed:   44.3s\n",
      "[Parallel(n_jobs=6)]: Done  60 tasks      | elapsed:   49.7s\n",
      "[Parallel(n_jobs=6)]: Done  73 tasks      | elapsed:  1.1min\n",
      "[Parallel(n_jobs=6)]: Done  86 tasks      | elapsed:  1.2min\n",
      "[Parallel(n_jobs=6)]: Done 101 tasks      | elapsed:  1.4min\n",
      "[Parallel(n_jobs=6)]: Done 116 tasks      | elapsed:  1.6min\n",
      "[Parallel(n_jobs=6)]: Done 133 tasks      | elapsed:  1.8min\n",
      "[Parallel(n_jobs=6)]: Done 150 tasks      | elapsed:  2.0min\n",
      "[Parallel(n_jobs=6)]: Done 169 tasks      | elapsed:  2.3min\n",
      "[Parallel(n_jobs=6)]: Done 188 tasks      | elapsed:  2.6min\n",
      "[Parallel(n_jobs=6)]: Done 209 tasks      | elapsed:  2.8min\n",
      "[Parallel(n_jobs=6)]: Done 230 tasks      | elapsed:  3.2min\n",
      "[Parallel(n_jobs=6)]: Done 253 tasks      | elapsed:  3.5min\n",
      "[Parallel(n_jobs=6)]: Done 276 tasks      | elapsed:  3.8min\n",
      "[Parallel(n_jobs=6)]: Done 301 tasks      | elapsed:  4.5min\n",
      "[Parallel(n_jobs=6)]: Done 326 tasks      | elapsed:  5.1min\n",
      "[Parallel(n_jobs=6)]: Done 353 tasks      | elapsed:  5.8min\n",
      "[Parallel(n_jobs=6)]: Done 380 tasks      | elapsed:  6.5min\n",
      "[Parallel(n_jobs=6)]: Done 409 tasks      | elapsed:  7.2min\n",
      "[Parallel(n_jobs=6)]: Done 438 tasks      | elapsed:  7.8min\n",
      "[Parallel(n_jobs=6)]: Done 469 tasks      | elapsed:  8.6min\n",
      "[Parallel(n_jobs=6)]: Done 500 tasks      | elapsed:  9.4min\n",
      "[Parallel(n_jobs=6)]: Done 533 tasks      | elapsed: 10.1min\n",
      "[Parallel(n_jobs=6)]: Done 566 tasks      | elapsed: 11.3min\n",
      "[Parallel(n_jobs=6)]: Done 601 tasks      | elapsed: 12.7min\n",
      "[Parallel(n_jobs=6)]: Done 636 tasks      | elapsed: 13.8min\n",
      "[Parallel(n_jobs=6)]: Done 673 tasks      | elapsed: 15.2min\n",
      "[Parallel(n_jobs=6)]: Done 710 tasks      | elapsed: 16.5min\n",
      "[Parallel(n_jobs=6)]: Done 749 tasks      | elapsed: 17.7min\n",
      "[Parallel(n_jobs=6)]: Done 788 tasks      | elapsed: 19.1min\n",
      "[Parallel(n_jobs=6)]: Done 829 tasks      | elapsed: 20.1min\n",
      "[Parallel(n_jobs=6)]: Done 870 tasks      | elapsed: 20.7min\n",
      "[Parallel(n_jobs=6)]: Done 913 tasks      | elapsed: 21.4min\n",
      "[Parallel(n_jobs=6)]: Done 956 tasks      | elapsed: 22.1min\n",
      "[Parallel(n_jobs=6)]: Done 1001 tasks      | elapsed: 22.9min\n",
      "[Parallel(n_jobs=6)]: Done 1046 tasks      | elapsed: 23.6min\n",
      "[Parallel(n_jobs=6)]: Done 1093 tasks      | elapsed: 24.7min\n",
      "[Parallel(n_jobs=6)]: Done 1140 tasks      | elapsed: 26.1min\n",
      "[Parallel(n_jobs=6)]: Done 1189 tasks      | elapsed: 27.7min\n",
      "[Parallel(n_jobs=6)]: Done 1238 tasks      | elapsed: 29.2min\n",
      "[Parallel(n_jobs=6)]: Done 1289 tasks      | elapsed: 30.7min\n",
      "[Parallel(n_jobs=6)]: Done 1340 tasks      | elapsed: 32.3min\n",
      "[Parallel(n_jobs=6)]: Done 1393 tasks      | elapsed: 34.7min\n",
      "[Parallel(n_jobs=6)]: Done 1446 tasks      | elapsed: 37.1min\n",
      "[Parallel(n_jobs=6)]: Done 1501 tasks      | elapsed: 39.6min\n",
      "[Parallel(n_jobs=6)]: Done 1556 tasks      | elapsed: 42.0min\n",
      "[Parallel(n_jobs=6)]: Done 1613 tasks      | elapsed: 44.4min\n",
      "[Parallel(n_jobs=6)]: Done 1670 tasks      | elapsed: 45.6min\n",
      "[Parallel(n_jobs=6)]: Done 1729 tasks      | elapsed: 46.8min\n",
      "[Parallel(n_jobs=6)]: Done 1788 tasks      | elapsed: 47.9min\n",
      "[Parallel(n_jobs=6)]: Done 1849 tasks      | elapsed: 49.1min\n",
      "[Parallel(n_jobs=6)]: Done 1910 tasks      | elapsed: 50.8min\n",
      "[Parallel(n_jobs=6)]: Done 1973 tasks      | elapsed: 53.2min\n",
      "[Parallel(n_jobs=6)]: Done 2036 tasks      | elapsed: 55.6min\n",
      "[Parallel(n_jobs=6)]: Done 2101 tasks      | elapsed: 58.0min\n",
      "[Parallel(n_jobs=6)]: Done 2166 tasks      | elapsed: 60.5min\n",
      "[Parallel(n_jobs=6)]: Done 2233 tasks      | elapsed: 64.4min\n",
      "[Parallel(n_jobs=6)]: Done 2300 tasks      | elapsed: 68.1min\n",
      "[Parallel(n_jobs=6)]: Done 2369 tasks      | elapsed: 71.7min\n",
      "[Parallel(n_jobs=6)]: Done 2430 out of 2430 | elapsed: 74.9min finished\n",
      "C:\\Users\\pengu\\Anaconda3\\lib\\site-packages\\sklearn\\model_selection\\_search.py:841: DeprecationWarning: The default of the `iid` parameter will change from True to False in version 0.22 and will be removed in 0.24. This will change numeric results when test-set sizes are unequal.\n",
      "  DeprecationWarning)\n",
      "C:\\Users\\pengu\\Anaconda3\\lib\\site-packages\\xgboost\\core.py:587: FutureWarning: Series.base is deprecated and will be removed in a future version\n",
      "  if getattr(data, 'base', None) is not None and \\\n",
      "C:\\Users\\pengu\\Anaconda3\\lib\\site-packages\\xgboost\\core.py:588: FutureWarning: Series.base is deprecated and will be removed in a future version\n",
      "  data.base is not None and isinstance(data, np.ndarray) \\\n"
     ]
    },
    {
     "data": {
      "text/plain": [
       "GridSearchCV(cv=10, error_score='raise-deprecating',\n",
       "       estimator=XGBRegressor(base_score=0.5, booster='gbtree', colsample_bylevel=1,\n",
       "       colsample_bynode=1, colsample_bytree=1, gamma=0,\n",
       "       importance_type='gain', learning_rate=0.1, max_delta_step=0,\n",
       "       max_depth=3, min_child_weight=1, missing=None, n_estimators=100,\n",
       "       n_jobs=1, nthread=None, objective='reg:squarederror',\n",
       "       random_state=0, reg_alpha=0, reg_lambda=1, scale_pos_weight=1,\n",
       "       seed=None, silent=None, subsample=1, verbosity=1),\n",
       "       fit_params=None, iid='warn', n_jobs=6,\n",
       "       param_grid={'learning_rate': [0.05], 'n_estimators': [1000], 'gamma': [0.5], 'max_depth': [3, 6, 9], 'min_child_weight': [1, 5, 10], 'subsample': [0.4], 'colsample_bytree': [0.6, 0.8, 1.0], 'reg_alpha': [1, 2, 3], 'reg_lambda': [1, 2, 3]},\n",
       "       pre_dispatch='2*n_jobs', refit=True, return_train_score='warn',\n",
       "       scoring='neg_mean_squared_error', verbose=10)"
      ]
     },
     "execution_count": 60,
     "metadata": {},
     "output_type": "execute_result"
    }
   ],
   "source": [
    "params_3 = {\n",
    "    \"learning_rate\": [0.05], #, 0.5, 0.75, 1],\n",
    "    'n_estimators': [1000], # 100, 500\n",
    "    'gamma': [0.5], #1, 1.5, 2, 5],\n",
    "    'max_depth': [3, 6, 9],\n",
    "    'min_child_weight': [1, 5, 10],\n",
    "    'subsample': [0.4], #0.75, 1.0],\n",
    "    'colsample_bytree': [0.6, 0.8, 1.0],\n",
    "    'reg_alpha': [1, 2, 3],\n",
    "    'reg_lambda': [1, 2, 3]\n",
    "    }\n",
    "\n",
    "gscv_3 = GridSearchCV(estimator = xgbr_1,\n",
    "                      param_grid = params_3,\n",
    "                      scoring = 'neg_mean_squared_error',\n",
    "                      n_jobs=6, \n",
    "                      verbose=10,\n",
    "                      cv = 10\n",
    "                  )\n",
    "\n",
    "gscv_3.fit(full_df, y_SPPGLA)"
   ]
  },
  {
   "cell_type": "code",
   "execution_count": 62,
   "metadata": {},
   "outputs": [
    {
     "name": "stdout",
     "output_type": "stream",
     "text": [
      "Best parameters:  {'colsample_bytree': 1.0, 'gamma': 0.5, 'learning_rate': 0.05, 'max_depth': 3, 'min_child_weight': 1, 'n_estimators': 1000, 'reg_alpha': 1, 'reg_lambda': 3, 'subsample': 0.4}\n",
      "Lowest RMSE:  11.592833640273456\n"
     ]
    }
   ],
   "source": [
    "print(\"Best parameters: \", gscv_3.best_params_)\n",
    "print(\"Lowest RMSE: \", (-gscv_3.best_score_)**(1/2.0))"
   ]
  },
  {
   "cell_type": "code",
   "execution_count": 64,
   "metadata": {},
   "outputs": [],
   "source": [
    "best_xgbr_3 = xgb.XGBRegressor(objective='reg:squarederror',\n",
    "                               colsample_bytree = 1,\n",
    "                               gamma = 0.5,\n",
    "                               learning_rate = 0.05,\n",
    "                               max_depth = 3,\n",
    "                               min_child_weight = 10,\n",
    "                               n_estimators = 1000,\n",
    "                               reg_alpha = 1,\n",
    "                               reg_lambda = 3,\n",
    "                               subsample = 0.4)"
   ]
  },
  {
   "cell_type": "code",
   "execution_count": 67,
   "metadata": {},
   "outputs": [
    {
     "name": "stderr",
     "output_type": "stream",
     "text": [
      "C:\\Users\\pengu\\Anaconda3\\lib\\site-packages\\xgboost\\core.py:587: FutureWarning: Series.base is deprecated and will be removed in a future version\n",
      "  if getattr(data, 'base', None) is not None and \\\n",
      "C:\\Users\\pengu\\Anaconda3\\lib\\site-packages\\xgboost\\core.py:587: FutureWarning: Series.base is deprecated and will be removed in a future version\n",
      "  if getattr(data, 'base', None) is not None and \\\n",
      "C:\\Users\\pengu\\Anaconda3\\lib\\site-packages\\xgboost\\core.py:587: FutureWarning: Series.base is deprecated and will be removed in a future version\n",
      "  if getattr(data, 'base', None) is not None and \\\n",
      "C:\\Users\\pengu\\Anaconda3\\lib\\site-packages\\xgboost\\core.py:587: FutureWarning: Series.base is deprecated and will be removed in a future version\n",
      "  if getattr(data, 'base', None) is not None and \\\n",
      "C:\\Users\\pengu\\Anaconda3\\lib\\site-packages\\xgboost\\core.py:587: FutureWarning: Series.base is deprecated and will be removed in a future version\n",
      "  if getattr(data, 'base', None) is not None and \\\n",
      "C:\\Users\\pengu\\Anaconda3\\lib\\site-packages\\xgboost\\core.py:587: FutureWarning: Series.base is deprecated and will be removed in a future version\n",
      "  if getattr(data, 'base', None) is not None and \\\n",
      "C:\\Users\\pengu\\Anaconda3\\lib\\site-packages\\xgboost\\core.py:587: FutureWarning: Series.base is deprecated and will be removed in a future version\n",
      "  if getattr(data, 'base', None) is not None and \\\n",
      "C:\\Users\\pengu\\Anaconda3\\lib\\site-packages\\xgboost\\core.py:587: FutureWarning: Series.base is deprecated and will be removed in a future version\n",
      "  if getattr(data, 'base', None) is not None and \\\n",
      "C:\\Users\\pengu\\Anaconda3\\lib\\site-packages\\xgboost\\core.py:587: FutureWarning: Series.base is deprecated and will be removed in a future version\n",
      "  if getattr(data, 'base', None) is not None and \\\n",
      "C:\\Users\\pengu\\Anaconda3\\lib\\site-packages\\xgboost\\core.py:587: FutureWarning: Series.base is deprecated and will be removed in a future version\n",
      "  if getattr(data, 'base', None) is not None and \\\n"
     ]
    },
    {
     "name": "stdout",
     "output_type": "stream",
     "text": [
      "Mean cross-validation score: 0.85134\n"
     ]
    }
   ],
   "source": [
    "kfold = KFold(n_splits=10, shuffle=True)\n",
    "\n",
    "scores = cross_val_score(best_xgbr_3, full_df, y_SPPGLA, cv=kfold)\n",
    "print(\"Mean cross-validation score: %.5f\" % scores.mean())"
   ]
  },
  {
   "cell_type": "code",
   "execution_count": null,
   "metadata": {},
   "outputs": [],
   "source": []
  }
 ],
 "metadata": {
  "kernelspec": {
   "display_name": "Python 3",
   "language": "python",
   "name": "python3"
  },
  "language_info": {
   "codemirror_mode": {
    "name": "ipython",
    "version": 3
   },
   "file_extension": ".py",
   "mimetype": "text/x-python",
   "name": "python",
   "nbconvert_exporter": "python",
   "pygments_lexer": "ipython3",
   "version": "3.7.3"
  }
 },
 "nbformat": 4,
 "nbformat_minor": 2
}
