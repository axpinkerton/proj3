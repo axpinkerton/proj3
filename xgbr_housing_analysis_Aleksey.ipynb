{
 "cells": [
  {
   "cell_type": "code",
   "execution_count": 1,
   "metadata": {},
   "outputs": [],
   "source": [
    "import numpy as np\n",
    "import sys\n",
    "import pandas as pd\n",
    "import matplotlib\n",
    "from matplotlib import pyplot as plt\n",
    "import seaborn as sns\n",
    "\n",
    "%matplotlib inline "
   ]
  },
  {
   "cell_type": "code",
   "execution_count": 2,
   "metadata": {},
   "outputs": [],
   "source": [
    "import sklearn\n",
    "\n",
    "from sklearn.model_selection import train_test_split\n",
    "from sklearn.linear_model import LinearRegression, Ridge, Lasso, ElasticNet\n",
    "from sklearn.model_selection import GridSearchCV\n",
    "from sklearn.metrics import mean_squared_error\n",
    "from sklearn.model_selection import KFold\n",
    "from sklearn.model_selection import cross_val_score\n",
    "\n",
    "from collections import OrderedDict\n",
    "import xgboost as xgb"
   ]
  },
  {
   "cell_type": "code",
   "execution_count": 3,
   "metadata": {},
   "outputs": [],
   "source": [
    "raw_df = pd.read_csv('./data/all_data_CLEAN.csv', index_col=0)\n",
    "\n",
    "data = raw_df.copy()\n",
    "data['MSSubClass'] = data['MSSubClass'].astype(str)"
   ]
  },
  {
   "cell_type": "code",
   "execution_count": 4,
   "metadata": {},
   "outputs": [],
   "source": [
    "ord_colnames = ['LotShape', 'LandSlope', 'OverallQual', 'OverallCond',\n",
    "                'ExterQual', 'ExterCond', 'BsmtQual', 'BsmtCond',\n",
    "                'BsmtExposure', 'BsmtFinType1', 'BsmtFinType2', 'HeatingQC',\n",
    "                'KitchenQual', 'Functional', 'FireplaceQu', 'GarageFinish',\n",
    "                'GarageQual', 'GarageCond', 'PoolQC', 'Fence']\n",
    "ord_dict = {}\n",
    "ord_dict['LotShape'] = ['IR3', 'IR2', 'IR1', 'Reg']\n",
    "ord_dict['LandSlope'] = ['Sev', 'Mod', 'Gtl']\n",
    "ord_dict['OverallQual'] = [np.nan, 1,2,3,4,5,6,7,8,9,10]\n",
    "ord_dict['OverallCond'] = [np.nan, 1,2,3,4,5,6,7,8,9,10]\n",
    "ord_dict['ExterQual'] = [np.nan,'Po', 'Fa','TA', 'Gd', 'Ex']\n",
    "ord_dict['ExterCond'] = [np.nan, 'Po', 'Fa','TA', 'Gd', 'Ex']\n",
    "ord_dict['BsmtQual'] = ['NoneListed', 'Po', 'Fa','TA', 'Gd', 'Ex']\n",
    "ord_dict['BsmtCond'] = ['NoneListed', 'Po', 'Fa','TA', 'Gd', 'Ex']\n",
    "ord_dict['BsmtExposure'] = ['NoneListed', 'No', 'Mn', 'Av', 'Gd']\n",
    "ord_dict['BsmtFinType1'] = ['NoneListed', 'Unf', 'LwQ', 'Rec', 'BLQ', 'ALQ', 'GLQ']\n",
    "ord_dict['BsmtFinType2'] = ['NoneListed', 'Unf', 'LwQ', 'Rec', 'BLQ', 'ALQ', 'GLQ']\n",
    "ord_dict['HeatingQC'] = [np.nan, 'Po', 'Fa','TA', 'Gd', 'Ex']\n",
    "ord_dict['KitchenQual'] = [np.nan, 'Po', 'Fa','TA', 'Gd', 'Ex']\n",
    "ord_dict['Functional'] = ['Sal', 'Sev', 'Maj2', 'Maj1', 'Mod', 'Min2', 'Min1', 'Typ']\n",
    "ord_dict['FireplaceQu'] = ['NoneListed', 'Po', 'Fa','TA', 'Gd', 'Ex']\n",
    "ord_dict['GarageFinish'] = ['NoneListed', 'Unf', 'RFn', 'Fin']\n",
    "ord_dict['GarageQual'] = ['NoneListed', 'Po', 'Fa','TA', 'Gd', 'Ex']\n",
    "ord_dict['GarageCond'] = ['NoneListed', 'Po', 'Fa','TA', 'Gd', 'Ex']\n",
    "ord_dict['PoolQC'] = ['NoneListed', 'Po', 'Fa','TA', 'Gd', 'Ex']\n",
    "ord_dict['Fence'] = ['NoneListed', 'MnWw', 'GdWo', 'MnPrv', 'GdPrv']"
   ]
  },
  {
   "cell_type": "code",
   "execution_count": 5,
   "metadata": {},
   "outputs": [],
   "source": [
    "# Trasforms Labels to Numbers\n",
    "for i in range(len(ord_colnames)):\n",
    "    data[ord_colnames[i]] = data[ord_colnames[i]].apply(lambda x: ord_dict[ord_colnames[i]].index(x))\n",
    "\n",
    "# Trasforms Numbers back to Labels\n",
    "# for i in range(len(ord_colnames)):\n",
    "#     ames_housing_X[ord_colnames[i]] = ames_housing_X[ord_colnames[i]].apply(lambda x: ord_dict[ord_colnames[i]][x])"
   ]
  },
  {
   "cell_type": "code",
   "execution_count": 6,
   "metadata": {},
   "outputs": [],
   "source": [
    "nums = ['PID', 'SalePrice','SalePricePerGLA','GrLivArea','LotFrontage', 'LotArea', \n",
    "          'YearBuilt', 'YearRemodAdd','MasVnrArea', 'BsmtFinSF1', 'BsmtFinSF2', \n",
    "          'BsmtUnfSF', 'TotalBsmtSF','1stFlrSF','2ndFlrSF', 'LowQualFinSF', \n",
    "          'BsmtFullBath', 'BsmtHalfBath', 'FullBath','HalfBath', 'BedroomAbvGr', \n",
    "          'KitchenAbvGr','TotRmsAbvGrd', 'Fireplaces','GarageYrBlt', 'GarageCars', \n",
    "          'GarageArea', 'WoodDeckSF', 'OpenPorchSF','EnclosedPorch', '3SsnPorch', \n",
    "          'ScreenPorch', 'PoolArea', 'MiscVal' , 'MoSold', 'YrSold']\n"
   ]
  },
  {
   "cell_type": "code",
   "execution_count": 7,
   "metadata": {},
   "outputs": [
    {
     "name": "stdout",
     "output_type": "stream",
     "text": [
      "Nums len:  36 \n",
      "Ords len:  20 \n",
      "Cats len:  25 \n",
      "Raw_df shape:  81\n",
      "full_df:  (2552, 219)\n"
     ]
    }
   ],
   "source": [
    "cats_ords = list(set(data.columns) - set(data[nums].columns))\n",
    "\n",
    "cats = list(set(data[cats_ords].columns) - set(data[ord_colnames].columns))\n",
    "print(\"Nums len: \", len(nums),\n",
    "      \"\\nOrds len: \", len(ord_colnames),\n",
    "      \"\\nCats len: \", len(cats),\n",
    "      \"\\nRaw_df shape: \", len(raw_df.columns))\n",
    "\n",
    "enc_cats_df = pd.get_dummies(data[cats],drop_first=True)\n",
    "nums_df = data[nums]\n",
    "ords_df = data[ord_colnames]\n",
    "\n",
    "nums_ords = nums_df.join(ords_df)\n",
    "full_df = nums_ords.join(enc_cats_df)\n",
    "print(\"full_df: \", full_df.shape)"
   ]
  },
  {
   "cell_type": "code",
   "execution_count": 8,
   "metadata": {},
   "outputs": [
    {
     "name": "stdout",
     "output_type": "stream",
     "text": [
      "With SP, GLA, and SPPGLA and PID:  (2552, 219)\n",
      "Without SP, GLA, SPPGLA, or PID:  (2552, 215)\n",
      "full_df shape:  (2552, 215) \n",
      "y_SPPGLA shape:  (2552,)\n"
     ]
    }
   ],
   "source": [
    "y_SP = full_df['SalePrice']\n",
    "y_SPPGLA = full_df['SalePricePerGLA']\n",
    "X_GLA = full_df['GrLivArea']\n",
    "X_PID = full_df['PID']\n",
    "\n",
    "print(\"With SP, GLA, and SPPGLA and PID: \", full_df.shape)\n",
    "full_df.drop(['SalePrice', 'SalePricePerGLA', 'GrLivArea', 'PID'], axis=1, inplace=True)\n",
    "print(\"Without SP, GLA, SPPGLA, or PID: \", full_df.shape)\n",
    "\n",
    "# Test data set sizes\n",
    "print(\"full_df shape: \",full_df.shape, \"\\ny_SPPGLA shape: \",y_SPPGLA.shape)"
   ]
  },
  {
   "cell_type": "code",
   "execution_count": 9,
   "metadata": {},
   "outputs": [],
   "source": [
    "X_train, X_test, y_train, y_test = train_test_split(full_df, y_SPPGLA, test_size=0.25, random_state=42)\n",
    "\n",
    "params = {'objective':'reg:squarederror',\n",
    "          'colsample_bytree': 1,\n",
    "          'gamma': 0.5,\n",
    "          'learning_rate': 0.05,\n",
    "          'max_depth': 3,\n",
    "          'min_child_weight': 10,\n",
    "          'n_estimators': 1000,\n",
    "          'reg_alpha': 1,\n",
    "          'reg_lambda': 3,\n",
    "          'subsample': 0.4\n",
    "         }\n",
    "\n",
    "best_xgbr = xgb.XGBRegressor(objective='reg:squarederror',\n",
    "                               colsample_bytree = 1,\n",
    "                               gamma = 0.5,\n",
    "                               learning_rate = 0.05,\n",
    "                               max_depth = 3,\n",
    "                               min_child_weight = 10,\n",
    "                               n_estimators = 1000,\n",
    "                               reg_alpha = 1,\n",
    "                               reg_lambda = 3,\n",
    "                               subsample = 0.4)"
   ]
  },
  {
   "cell_type": "code",
   "execution_count": 10,
   "metadata": {},
   "outputs": [
    {
     "name": "stderr",
     "output_type": "stream",
     "text": [
      "C:\\Users\\pengu\\Anaconda3\\lib\\site-packages\\xgboost\\core.py:587: FutureWarning: Series.base is deprecated and will be removed in a future version\n",
      "  if getattr(data, 'base', None) is not None and \\\n",
      "C:\\Users\\pengu\\Anaconda3\\lib\\site-packages\\xgboost\\core.py:587: FutureWarning: Series.base is deprecated and will be removed in a future version\n",
      "  if getattr(data, 'base', None) is not None and \\\n",
      "C:\\Users\\pengu\\Anaconda3\\lib\\site-packages\\xgboost\\core.py:587: FutureWarning: Series.base is deprecated and will be removed in a future version\n",
      "  if getattr(data, 'base', None) is not None and \\\n",
      "C:\\Users\\pengu\\Anaconda3\\lib\\site-packages\\xgboost\\core.py:587: FutureWarning: Series.base is deprecated and will be removed in a future version\n",
      "  if getattr(data, 'base', None) is not None and \\\n",
      "C:\\Users\\pengu\\Anaconda3\\lib\\site-packages\\xgboost\\core.py:587: FutureWarning: Series.base is deprecated and will be removed in a future version\n",
      "  if getattr(data, 'base', None) is not None and \\\n",
      "C:\\Users\\pengu\\Anaconda3\\lib\\site-packages\\xgboost\\core.py:587: FutureWarning: Series.base is deprecated and will be removed in a future version\n",
      "  if getattr(data, 'base', None) is not None and \\\n",
      "C:\\Users\\pengu\\Anaconda3\\lib\\site-packages\\xgboost\\core.py:587: FutureWarning: Series.base is deprecated and will be removed in a future version\n",
      "  if getattr(data, 'base', None) is not None and \\\n",
      "C:\\Users\\pengu\\Anaconda3\\lib\\site-packages\\xgboost\\core.py:587: FutureWarning: Series.base is deprecated and will be removed in a future version\n",
      "  if getattr(data, 'base', None) is not None and \\\n",
      "C:\\Users\\pengu\\Anaconda3\\lib\\site-packages\\xgboost\\core.py:587: FutureWarning: Series.base is deprecated and will be removed in a future version\n",
      "  if getattr(data, 'base', None) is not None and \\\n",
      "C:\\Users\\pengu\\Anaconda3\\lib\\site-packages\\xgboost\\core.py:587: FutureWarning: Series.base is deprecated and will be removed in a future version\n",
      "  if getattr(data, 'base', None) is not None and \\\n"
     ]
    }
   ],
   "source": [
    "kfold = KFold(n_splits=10, shuffle=True, random_state=42)\n",
    "scores = cross_val_score(best_xgbr, X_train, y_train, cv=kfold)\n"
   ]
  },
  {
   "cell_type": "code",
   "execution_count": 11,
   "metadata": {},
   "outputs": [
    {
     "name": "stdout",
     "output_type": "stream",
     "text": [
      "Mean cross-validation score is 0.84867 with std of 0.01854\n"
     ]
    }
   ],
   "source": [
    "print(\"Mean cross-validation score is %.5f with std of %.5f\" % (scores.mean(), scores.std()))"
   ]
  },
  {
   "cell_type": "code",
   "execution_count": 12,
   "metadata": {},
   "outputs": [
    {
     "name": "stderr",
     "output_type": "stream",
     "text": [
      "C:\\Users\\pengu\\Anaconda3\\lib\\site-packages\\xgboost\\core.py:587: FutureWarning: Series.base is deprecated and will be removed in a future version\n",
      "  if getattr(data, 'base', None) is not None and \\\n"
     ]
    },
    {
     "data": {
      "text/plain": [
       "0.8192578720854865"
      ]
     },
     "execution_count": 12,
     "metadata": {},
     "output_type": "execute_result"
    }
   ],
   "source": [
    "best_xgbr.fit(X_train, y_train)\n",
    "#best_xgbr.score(X_train, y_train)\n",
    "#best_xgbr.fit(X_test,y_test)\n",
    "best_xgbr.score(X_test, y_test)"
   ]
  },
  {
   "cell_type": "code",
   "execution_count": 14,
   "metadata": {},
   "outputs": [
    {
     "name": "stderr",
     "output_type": "stream",
     "text": [
      "C:\\Users\\pengu\\Anaconda3\\lib\\site-packages\\xgboost\\core.py:587: FutureWarning: Series.base is deprecated and will be removed in a future version\n",
      "  if getattr(data, 'base', None) is not None and \\\n"
     ]
    }
   ],
   "source": [
    "# data_dmatrix = xgb.DMatrix(data=X_train, label = y_train)\n",
    "\n",
    "# xg_reg = xgb.train(params=params, dtrain = data_dmatrix, num_boost_round=1000)\n",
    "\n",
    "# xgb.plot_importance(xg_reg)\n",
    "# plt.rcParams['figure.figsize'] = [15,10]\n",
    "# plt.show()"
   ]
  },
  {
   "cell_type": "code",
   "execution_count": 16,
   "metadata": {},
   "outputs": [],
   "source": [
    "#%%capture\n",
    "rel_features_dict = OrderedDict(sorted(best_xgbr.get_booster().get_fscore().items(), key=lambda t: t[1], reverse=False))\n",
    "rel_features = pd.DataFrame.from_dict(rel_features_dict,orient='index', columns = ['Weight'])"
   ]
  },
  {
   "cell_type": "code",
   "execution_count": 17,
   "metadata": {
    "scrolled": false
   },
   "outputs": [
    {
     "data": {
      "image/png": "[encoded data removed]",
      "text/plain": [
       "<Figure size 432x288 with 1 Axes>"
      ]
     },
     "metadata": {
      "needs_background": "light"
     },
     "output_type": "display_data"
    }
   ],
   "source": [
    "rel_features.tail(20).plot.barh()\n",
    "plt.show()"
   ]
  },
  {
   "cell_type": "code",
   "execution_count": 26,
   "metadata": {},
   "outputs": [],
   "source": [
    "unchangeable_feats = ([feat for feat in list(rel_features.index) if 'Neighborhood' in feat] +\n",
    " [feat for feat in list(rel_features.index) if 'Condition1' in feat] +\n",
    " [feat for feat in list(rel_features.index) if 'Condition2' in feat] +\n",
    " [feat for feat in list(rel_features.index) if 'Exterior1st' in feat] +\n",
    " [feat for feat in list(rel_features.index) if 'MSSubClass' in feat] +\n",
    " [feat for feat in list(rel_features.index) if 'SaleCondition' in feat] +\n",
    " [feat for feat in list(rel_features.index) if 'GarageType' in feat] +\n",
    " [feat for feat in list(rel_features.index) if 'LandContour' in feat] +\n",
    " [feat for feat in list(rel_features.index) if 'MSZoning' in feat] +\n",
    " [feat for feat in list(rel_features.index) if 'HouseStyle' in feat] +\n",
    " [feat for feat in list(rel_features.index) if 'Foundation' in feat] +\n",
    " [feat for feat in list(rel_features.index) if 'LotConfig' in feat] +\n",
    " ['LotShape'] + ['ExterQual'] + ['const'] + ['YearBuilt'] + ['2ndFlrSF'] +\n",
    " ['GarageArea '] + ['BedroomAbvGr'] + ['LotArea'] + ['LotFrontage'] + ['GarageYrBlt'] +\n",
    " ['MoSold'] + ['YrSold'] + ['LandSlope'] + ['1stFlrSF'] + ['BsmtUnfSF'] + ['TotalBsmtSF'] +\n",
    " ['LotFrontage'] + ['GarageArea'] + ['TotRmsAbvGrd'])\n",
    "\n",
    "#unchangeable_feats\n",
    "changeable_feats = list(set(rel_features.index) - set(unchangeable_feats))\n",
    "#changeable_feats"
   ]
  },
  {
   "cell_type": "code",
   "execution_count": 27,
   "metadata": {},
   "outputs": [
    {
     "data": {
      "image/png": "[encoded data removed]",
      "text/plain": [
       "<Figure size 432x288 with 1 Axes>"
      ]
     },
     "metadata": {
      "needs_background": "light"
     },
     "output_type": "display_data"
    }
   ],
   "source": [
    "chng_rel_feats = rel_features[rel_features.index.isin(changeable_feats)]\n",
    "#chng_rel_feats\n",
    "chng_rel_feats.tail(15).plot.barh()\n",
    "plt.show()"
   ]
  },
  {
   "cell_type": "code",
   "execution_count": 28,
   "metadata": {},
   "outputs": [
    {
     "data": {
      "text/html": [
       "<div>\n",
       "<style scoped>\n",
       "    .dataframe tbody tr th:only-of-type {\n",
       "        vertical-align: middle;\n",
       "    }\n",
       "\n",
       "    .dataframe tbody tr th {\n",
       "        vertical-align: top;\n",
       "    }\n",
       "\n",
       "    .dataframe thead th {\n",
       "        text-align: right;\n",
       "    }\n",
       "</style>\n",
       "<table border=\"1\" class=\"dataframe\">\n",
       "  <thead>\n",
       "    <tr style=\"text-align: right;\">\n",
       "      <th></th>\n",
       "      <th>Weight</th>\n",
       "    </tr>\n",
       "  </thead>\n",
       "  <tbody>\n",
       "    <tr>\n",
       "      <th>ExterCond</th>\n",
       "      <td>37</td>\n",
       "    </tr>\n",
       "    <tr>\n",
       "      <th>BsmtFinSF2</th>\n",
       "      <td>38</td>\n",
       "    </tr>\n",
       "    <tr>\n",
       "      <th>Functional</th>\n",
       "      <td>39</td>\n",
       "    </tr>\n",
       "    <tr>\n",
       "      <th>HeatingQC</th>\n",
       "      <td>43</td>\n",
       "    </tr>\n",
       "    <tr>\n",
       "      <th>ScreenPorch</th>\n",
       "      <td>45</td>\n",
       "    </tr>\n",
       "    <tr>\n",
       "      <th>BsmtFinType1</th>\n",
       "      <td>63</td>\n",
       "    </tr>\n",
       "    <tr>\n",
       "      <th>BsmtExposure</th>\n",
       "      <td>77</td>\n",
       "    </tr>\n",
       "    <tr>\n",
       "      <th>EnclosedPorch</th>\n",
       "      <td>78</td>\n",
       "    </tr>\n",
       "    <tr>\n",
       "      <th>MasVnrArea</th>\n",
       "      <td>108</td>\n",
       "    </tr>\n",
       "    <tr>\n",
       "      <th>WoodDeckSF</th>\n",
       "      <td>119</td>\n",
       "    </tr>\n",
       "    <tr>\n",
       "      <th>OverallCond</th>\n",
       "      <td>135</td>\n",
       "    </tr>\n",
       "    <tr>\n",
       "      <th>YearRemodAdd</th>\n",
       "      <td>150</td>\n",
       "    </tr>\n",
       "    <tr>\n",
       "      <th>OpenPorchSF</th>\n",
       "      <td>155</td>\n",
       "    </tr>\n",
       "    <tr>\n",
       "      <th>OverallQual</th>\n",
       "      <td>160</td>\n",
       "    </tr>\n",
       "    <tr>\n",
       "      <th>BsmtFinSF1</th>\n",
       "      <td>219</td>\n",
       "    </tr>\n",
       "  </tbody>\n",
       "</table>\n",
       "</div>"
      ],
      "text/plain": [
       "               Weight\n",
       "ExterCond          37\n",
       "BsmtFinSF2         38\n",
       "Functional         39\n",
       "HeatingQC          43\n",
       "ScreenPorch        45\n",
       "BsmtFinType1       63\n",
       "BsmtExposure       77\n",
       "EnclosedPorch      78\n",
       "MasVnrArea        108\n",
       "WoodDeckSF        119\n",
       "OverallCond       135\n",
       "YearRemodAdd      150\n",
       "OpenPorchSF       155\n",
       "OverallQual       160\n",
       "BsmtFinSF1        219"
      ]
     },
     "execution_count": 28,
     "metadata": {},
     "output_type": "execute_result"
    }
   ],
   "source": [
    "chng_rel_feats.tail(15)"
   ]
  },
  {
   "cell_type": "code",
   "execution_count": null,
   "metadata": {},
   "outputs": [],
   "source": []
  }
 ],
 "metadata": {
  "kernelspec": {
   "display_name": "Python 3",
   "language": "python",
   "name": "python3"
  },
  "language_info": {
   "codemirror_mode": {
    "name": "ipython",
    "version": 3
   },
   "file_extension": ".py",
   "mimetype": "text/x-python",
   "name": "python",
   "nbconvert_exporter": "python",
   "pygments_lexer": "ipython3",
   "version": "3.7.3"
  }
 },
 "nbformat": 4,
 "nbformat_minor": 2
}
